{
 "cells": [
  {
   "cell_type": "code",
   "execution_count": 945,
   "metadata": {},
   "outputs": [
    {
     "data": {
      "text/html": [
       "<div>\n",
       "<style scoped>\n",
       "    .dataframe tbody tr th:only-of-type {\n",
       "        vertical-align: middle;\n",
       "    }\n",
       "\n",
       "    .dataframe tbody tr th {\n",
       "        vertical-align: top;\n",
       "    }\n",
       "\n",
       "    .dataframe thead th {\n",
       "        text-align: right;\n",
       "    }\n",
       "</style>\n",
       "<table border=\"1\" class=\"dataframe\">\n",
       "  <thead>\n",
       "    <tr style=\"text-align: right;\">\n",
       "      <th></th>\n",
       "      <th>page_id</th>\n",
       "      <th>name</th>\n",
       "      <th>urlslug</th>\n",
       "      <th>ID</th>\n",
       "      <th>ALIGN</th>\n",
       "      <th>EYE</th>\n",
       "      <th>HAIR</th>\n",
       "      <th>SEX</th>\n",
       "      <th>GSM</th>\n",
       "      <th>ALIVE</th>\n",
       "      <th>APPEARANCES</th>\n",
       "      <th>FIRST APPEARANCE</th>\n",
       "      <th>Year</th>\n",
       "    </tr>\n",
       "  </thead>\n",
       "  <tbody>\n",
       "    <tr>\n",
       "      <th>0</th>\n",
       "      <td>1678</td>\n",
       "      <td>Spider-Man (Peter Parker)</td>\n",
       "      <td>\\/Spider-Man_(Peter_Parker)</td>\n",
       "      <td>Secret Identity</td>\n",
       "      <td>Good Characters</td>\n",
       "      <td>Hazel Eyes</td>\n",
       "      <td>Brown Hair</td>\n",
       "      <td>Male Characters</td>\n",
       "      <td>NaN</td>\n",
       "      <td>Living Characters</td>\n",
       "      <td>4043.0</td>\n",
       "      <td>Aug-62</td>\n",
       "      <td>1962.0</td>\n",
       "    </tr>\n",
       "    <tr>\n",
       "      <th>1</th>\n",
       "      <td>7139</td>\n",
       "      <td>Captain America (Steven Rogers)</td>\n",
       "      <td>\\/Captain_America_(Steven_Rogers)</td>\n",
       "      <td>Public Identity</td>\n",
       "      <td>Good Characters</td>\n",
       "      <td>Blue Eyes</td>\n",
       "      <td>White Hair</td>\n",
       "      <td>Male Characters</td>\n",
       "      <td>NaN</td>\n",
       "      <td>Living Characters</td>\n",
       "      <td>3360.0</td>\n",
       "      <td>Mar-41</td>\n",
       "      <td>1941.0</td>\n",
       "    </tr>\n",
       "    <tr>\n",
       "      <th>2</th>\n",
       "      <td>64786</td>\n",
       "      <td>Wolverine (James \\\"Logan\\\" Howlett)</td>\n",
       "      <td>\\/Wolverine_(James_%22Logan%22_Howlett)</td>\n",
       "      <td>Public Identity</td>\n",
       "      <td>Neutral Characters</td>\n",
       "      <td>Blue Eyes</td>\n",
       "      <td>Black Hair</td>\n",
       "      <td>Male Characters</td>\n",
       "      <td>NaN</td>\n",
       "      <td>Living Characters</td>\n",
       "      <td>3061.0</td>\n",
       "      <td>Oct-74</td>\n",
       "      <td>1974.0</td>\n",
       "    </tr>\n",
       "    <tr>\n",
       "      <th>3</th>\n",
       "      <td>1868</td>\n",
       "      <td>Iron Man (Anthony \\\"Tony\\\" Stark)</td>\n",
       "      <td>\\/Iron_Man_(Anthony_%22Tony%22_Stark)</td>\n",
       "      <td>Public Identity</td>\n",
       "      <td>Good Characters</td>\n",
       "      <td>Blue Eyes</td>\n",
       "      <td>Black Hair</td>\n",
       "      <td>Male Characters</td>\n",
       "      <td>NaN</td>\n",
       "      <td>Living Characters</td>\n",
       "      <td>2961.0</td>\n",
       "      <td>Mar-63</td>\n",
       "      <td>1963.0</td>\n",
       "    </tr>\n",
       "    <tr>\n",
       "      <th>4</th>\n",
       "      <td>2460</td>\n",
       "      <td>Thor (Thor Odinson)</td>\n",
       "      <td>\\/Thor_(Thor_Odinson)</td>\n",
       "      <td>No Dual Identity</td>\n",
       "      <td>Good Characters</td>\n",
       "      <td>Blue Eyes</td>\n",
       "      <td>Blond Hair</td>\n",
       "      <td>Male Characters</td>\n",
       "      <td>NaN</td>\n",
       "      <td>Living Characters</td>\n",
       "      <td>2258.0</td>\n",
       "      <td>Nov-50</td>\n",
       "      <td>1950.0</td>\n",
       "    </tr>\n",
       "  </tbody>\n",
       "</table>\n",
       "</div>"
      ],
      "text/plain": [
       "   page_id                                 name  \\\n",
       "0     1678            Spider-Man (Peter Parker)   \n",
       "1     7139      Captain America (Steven Rogers)   \n",
       "2    64786  Wolverine (James \\\"Logan\\\" Howlett)   \n",
       "3     1868    Iron Man (Anthony \\\"Tony\\\" Stark)   \n",
       "4     2460                  Thor (Thor Odinson)   \n",
       "\n",
       "                                   urlslug                ID  \\\n",
       "0              \\/Spider-Man_(Peter_Parker)   Secret Identity   \n",
       "1        \\/Captain_America_(Steven_Rogers)   Public Identity   \n",
       "2  \\/Wolverine_(James_%22Logan%22_Howlett)   Public Identity   \n",
       "3    \\/Iron_Man_(Anthony_%22Tony%22_Stark)   Public Identity   \n",
       "4                    \\/Thor_(Thor_Odinson)  No Dual Identity   \n",
       "\n",
       "                ALIGN         EYE        HAIR              SEX  GSM  \\\n",
       "0     Good Characters  Hazel Eyes  Brown Hair  Male Characters  NaN   \n",
       "1     Good Characters   Blue Eyes  White Hair  Male Characters  NaN   \n",
       "2  Neutral Characters   Blue Eyes  Black Hair  Male Characters  NaN   \n",
       "3     Good Characters   Blue Eyes  Black Hair  Male Characters  NaN   \n",
       "4     Good Characters   Blue Eyes  Blond Hair  Male Characters  NaN   \n",
       "\n",
       "               ALIVE  APPEARANCES FIRST APPEARANCE    Year  \n",
       "0  Living Characters       4043.0           Aug-62  1962.0  \n",
       "1  Living Characters       3360.0           Mar-41  1941.0  \n",
       "2  Living Characters       3061.0           Oct-74  1974.0  \n",
       "3  Living Characters       2961.0           Mar-63  1963.0  \n",
       "4  Living Characters       2258.0           Nov-50  1950.0  "
      ]
     },
     "execution_count": 945,
     "metadata": {},
     "output_type": "execute_result"
    }
   ],
   "source": [
    "import pandas as pd\n",
    "import numpy as np\n",
    "dataframe = pd.read_csv(\"marvel-wikia-data.csv\", encoding='latin1')\n",
    "dataframe.head(5)\n",
    "#I have tried different encodings:latin1;utf-8;utf-8-sig; and some(very few) values to see if that would help with reading any of the values"
   ]
  },
  {
   "cell_type": "code",
   "execution_count": 946,
   "metadata": {},
   "outputs": [
    {
     "data": {
      "text/plain": [
       "(16376, 13)"
      ]
     },
     "execution_count": 946,
     "metadata": {},
     "output_type": "execute_result"
    }
   ],
   "source": [
    "dataframe.shape"
   ]
  },
  {
   "cell_type": "code",
   "execution_count": 947,
   "metadata": {},
   "outputs": [
    {
     "name": "stdout",
     "output_type": "stream",
     "text": [
      "<class 'pandas.core.frame.DataFrame'>\n",
      "RangeIndex: 16376 entries, 0 to 16375\n",
      "Data columns (total 13 columns):\n",
      " #   Column            Non-Null Count  Dtype  \n",
      "---  ------            --------------  -----  \n",
      " 0   page_id           16376 non-null  int64  \n",
      " 1   name              16376 non-null  object \n",
      " 2   urlslug           16376 non-null  object \n",
      " 3   ID                12606 non-null  object \n",
      " 4   ALIGN             13564 non-null  object \n",
      " 5   EYE               6609 non-null   object \n",
      " 6   HAIR              12112 non-null  object \n",
      " 7   SEX               15522 non-null  object \n",
      " 8   GSM               90 non-null     object \n",
      " 9   ALIVE             16373 non-null  object \n",
      " 10  APPEARANCES       15280 non-null  float64\n",
      " 11  FIRST APPEARANCE  15561 non-null  object \n",
      " 12  Year              15561 non-null  float64\n",
      "dtypes: float64(2), int64(1), object(10)\n",
      "memory usage: 1.6+ MB\n"
     ]
    }
   ],
   "source": [
    "#checking for missing values\n",
    "dataframe.info()"
   ]
  },
  {
   "cell_type": "code",
   "execution_count": 948,
   "metadata": {},
   "outputs": [
    {
     "name": "stdout",
     "output_type": "stream",
     "text": [
      "Describe Data\n",
      "-----------------------------------------------------------------------------------------------------------------------------\n",
      "             page_id   APPEARANCES          Year\n",
      "count   16376.000000  15280.000000  15561.000000\n",
      "mean   300232.082377     17.033377   1984.951803\n",
      "std    253460.403399     96.372959     19.663571\n",
      "min      1025.000000      1.000000   1939.000000\n",
      "25%     28309.500000      1.000000   1974.000000\n",
      "50%    282578.000000      3.000000   1990.000000\n",
      "75%    509077.000000      8.000000   2000.000000\n",
      "max    755278.000000   4043.000000   2013.000000\n",
      "Summarized Data\n",
      "-----------------------------------------------------------------------------------------------------------------------------\n",
      "                             name              urlslug               ID  \\\n",
      "count                       16376                16376            12606   \n",
      "unique                      16376                16376                4   \n",
      "top     Carter Ryking (Earth-616)  \\/Saber_(Earth-616)  Secret Identity   \n",
      "freq                            1                    1             6275   \n",
      "\n",
      "                 ALIGN        EYE        HAIR              SEX  \\\n",
      "count            13564       6609       12112            15522   \n",
      "unique               3         24          25                4   \n",
      "top     Bad Characters  Blue Eyes  Black Hair  Male Characters   \n",
      "freq              6720       1962        3755            11638   \n",
      "\n",
      "                          GSM              ALIVE FIRST APPEARANCE  \n",
      "count                      90              16373            15561  \n",
      "unique                      6                  2              832  \n",
      "top     Homosexual Characters  Living Characters           Jun-92  \n",
      "freq                       66              12608               72  \n"
     ]
    }
   ],
   "source": [
    "print(\"Describe Data\")\n",
    "print(\"-\"*125)\n",
    "print(dataframe.describe())\n",
    "print(\"Summarized Data\")\n",
    "print(\"-\"*125)\n",
    "print(dataframe.describe(include=['O']))"
   ]
  },
  {
   "cell_type": "code",
   "execution_count": 949,
   "metadata": {},
   "outputs": [],
   "source": [
    "#examining the columns and deciding which columns need to be kept for the future analysis:\n",
    "# Column \"page_id\" contains unique IDs for the characters in wikia. Since I will be joining data from different sources in the future, \n",
    "#I believe this column won't be valuable for analysis.\n",
    "#One more column that I won't be including is the column with the URLs for the characters in wikia. The column's name is 'urlslug'.\n",
    "#Column \"first_appearance\" is basically redunt because the column \"year\" already inlcudes the information about the year of first apperance. \n",
    "#I don't think month of the year will be needed in  my analysis so I am keeping just the column \"YEAR\" \n",
    "#Column \"Appearances\" is outdated since the last information entered was in 2014. This data is not up-to-date at this time. I also was not going to have it \n",
    "#in the final dataset. I will be removing the column."
   ]
  },
  {
   "cell_type": "code",
   "execution_count": 950,
   "metadata": {},
   "outputs": [
    {
     "data": {
      "text/html": [
       "<div>\n",
       "<style scoped>\n",
       "    .dataframe tbody tr th:only-of-type {\n",
       "        vertical-align: middle;\n",
       "    }\n",
       "\n",
       "    .dataframe tbody tr th {\n",
       "        vertical-align: top;\n",
       "    }\n",
       "\n",
       "    .dataframe thead th {\n",
       "        text-align: right;\n",
       "    }\n",
       "</style>\n",
       "<table border=\"1\" class=\"dataframe\">\n",
       "  <thead>\n",
       "    <tr style=\"text-align: right;\">\n",
       "      <th></th>\n",
       "      <th>name</th>\n",
       "      <th>ID</th>\n",
       "      <th>ALIGN</th>\n",
       "      <th>EYE</th>\n",
       "      <th>HAIR</th>\n",
       "      <th>SEX</th>\n",
       "      <th>GSM</th>\n",
       "      <th>ALIVE</th>\n",
       "      <th>Year</th>\n",
       "    </tr>\n",
       "  </thead>\n",
       "  <tbody>\n",
       "    <tr>\n",
       "      <th>0</th>\n",
       "      <td>Spider-Man (Peter Parker)</td>\n",
       "      <td>Secret Identity</td>\n",
       "      <td>Good Characters</td>\n",
       "      <td>Hazel Eyes</td>\n",
       "      <td>Brown Hair</td>\n",
       "      <td>Male Characters</td>\n",
       "      <td>NaN</td>\n",
       "      <td>Living Characters</td>\n",
       "      <td>1962.0</td>\n",
       "    </tr>\n",
       "    <tr>\n",
       "      <th>1</th>\n",
       "      <td>Captain America (Steven Rogers)</td>\n",
       "      <td>Public Identity</td>\n",
       "      <td>Good Characters</td>\n",
       "      <td>Blue Eyes</td>\n",
       "      <td>White Hair</td>\n",
       "      <td>Male Characters</td>\n",
       "      <td>NaN</td>\n",
       "      <td>Living Characters</td>\n",
       "      <td>1941.0</td>\n",
       "    </tr>\n",
       "    <tr>\n",
       "      <th>2</th>\n",
       "      <td>Wolverine (James \\\"Logan\\\" Howlett)</td>\n",
       "      <td>Public Identity</td>\n",
       "      <td>Neutral Characters</td>\n",
       "      <td>Blue Eyes</td>\n",
       "      <td>Black Hair</td>\n",
       "      <td>Male Characters</td>\n",
       "      <td>NaN</td>\n",
       "      <td>Living Characters</td>\n",
       "      <td>1974.0</td>\n",
       "    </tr>\n",
       "    <tr>\n",
       "      <th>3</th>\n",
       "      <td>Iron Man (Anthony \\\"Tony\\\" Stark)</td>\n",
       "      <td>Public Identity</td>\n",
       "      <td>Good Characters</td>\n",
       "      <td>Blue Eyes</td>\n",
       "      <td>Black Hair</td>\n",
       "      <td>Male Characters</td>\n",
       "      <td>NaN</td>\n",
       "      <td>Living Characters</td>\n",
       "      <td>1963.0</td>\n",
       "    </tr>\n",
       "    <tr>\n",
       "      <th>4</th>\n",
       "      <td>Thor (Thor Odinson)</td>\n",
       "      <td>No Dual Identity</td>\n",
       "      <td>Good Characters</td>\n",
       "      <td>Blue Eyes</td>\n",
       "      <td>Blond Hair</td>\n",
       "      <td>Male Characters</td>\n",
       "      <td>NaN</td>\n",
       "      <td>Living Characters</td>\n",
       "      <td>1950.0</td>\n",
       "    </tr>\n",
       "  </tbody>\n",
       "</table>\n",
       "</div>"
      ],
      "text/plain": [
       "                                  name                ID               ALIGN  \\\n",
       "0            Spider-Man (Peter Parker)   Secret Identity     Good Characters   \n",
       "1      Captain America (Steven Rogers)   Public Identity     Good Characters   \n",
       "2  Wolverine (James \\\"Logan\\\" Howlett)   Public Identity  Neutral Characters   \n",
       "3    Iron Man (Anthony \\\"Tony\\\" Stark)   Public Identity     Good Characters   \n",
       "4                  Thor (Thor Odinson)  No Dual Identity     Good Characters   \n",
       "\n",
       "          EYE        HAIR              SEX  GSM              ALIVE    Year  \n",
       "0  Hazel Eyes  Brown Hair  Male Characters  NaN  Living Characters  1962.0  \n",
       "1   Blue Eyes  White Hair  Male Characters  NaN  Living Characters  1941.0  \n",
       "2   Blue Eyes  Black Hair  Male Characters  NaN  Living Characters  1974.0  \n",
       "3   Blue Eyes  Black Hair  Male Characters  NaN  Living Characters  1963.0  \n",
       "4   Blue Eyes  Blond Hair  Male Characters  NaN  Living Characters  1950.0  "
      ]
     },
     "execution_count": 950,
     "metadata": {},
     "output_type": "execute_result"
    }
   ],
   "source": [
    "#removing the columns mentioned above\n",
    "dataframe.drop('urlslug', axis=1,inplace = True)\n",
    "dataframe.drop('FIRST APPEARANCE', axis=1, inplace = True)\n",
    "dataframe.drop('APPEARANCES', axis=1, inplace = True)\n",
    "dataframe.drop('page_id', axis=1, inplace = True)\n",
    "dataframe.head()"
   ]
  },
  {
   "cell_type": "code",
   "execution_count": 951,
   "metadata": {},
   "outputs": [
    {
     "name": "stdout",
     "output_type": "stream",
     "text": [
      "99.5 percent of the values from column 'GSM'are missing values\n",
      "Empty DataFrame\n",
      "Columns: [name, ID, ALIGN, EYE, HAIR, SEX, GSM, ALIVE, Year]\n",
      "Index: []\n"
     ]
    }
   ],
   "source": [
    "#deciding wheteher I need to remove the column GSM. \n",
    "#calculating the percentage of values that are MISSING:\n",
    "print(\"{} percent of the values from column 'GSM'are missing values\".format(100 - (round(90*100/16736,1))))\n",
    "#checking if for the values that are not missing in column \"GSM\" we have missing values from the column \"SEX\" (they contain similar information).\n",
    "newdataframe = dataframe[(dataframe[\"GSM\"].notnull()) & (dataframe[\"SEX\"].isnull())]\n",
    "print(newdataframe)\n",
    "\n",
    "#we can see that this is not the case. For the values that are not missing in column \"GSM\" we also have values that are not missing for the column \"SEX\"\n",
    "#my decision is to remove the column \"GSM\" since it contains less than 0.5 percent of values that are not missing. Also, moving values from column \"GSM\" to \"SEX\" \n",
    "#won't help since for the values present in \"GSM\" we have values present in \"SEX\"."
   ]
  },
  {
   "cell_type": "code",
   "execution_count": 952,
   "metadata": {},
   "outputs": [
    {
     "data": {
      "text/html": [
       "<div>\n",
       "<style scoped>\n",
       "    .dataframe tbody tr th:only-of-type {\n",
       "        vertical-align: middle;\n",
       "    }\n",
       "\n",
       "    .dataframe tbody tr th {\n",
       "        vertical-align: top;\n",
       "    }\n",
       "\n",
       "    .dataframe thead th {\n",
       "        text-align: right;\n",
       "    }\n",
       "</style>\n",
       "<table border=\"1\" class=\"dataframe\">\n",
       "  <thead>\n",
       "    <tr style=\"text-align: right;\">\n",
       "      <th></th>\n",
       "      <th>name</th>\n",
       "      <th>ID</th>\n",
       "      <th>ALIGN</th>\n",
       "      <th>EYE</th>\n",
       "      <th>HAIR</th>\n",
       "      <th>SEX</th>\n",
       "      <th>ALIVE</th>\n",
       "      <th>Year</th>\n",
       "    </tr>\n",
       "  </thead>\n",
       "  <tbody>\n",
       "    <tr>\n",
       "      <th>0</th>\n",
       "      <td>Spider-Man (Peter Parker)</td>\n",
       "      <td>Secret Identity</td>\n",
       "      <td>Good Characters</td>\n",
       "      <td>Hazel Eyes</td>\n",
       "      <td>Brown Hair</td>\n",
       "      <td>Male Characters</td>\n",
       "      <td>Living Characters</td>\n",
       "      <td>1962.0</td>\n",
       "    </tr>\n",
       "    <tr>\n",
       "      <th>1</th>\n",
       "      <td>Captain America (Steven Rogers)</td>\n",
       "      <td>Public Identity</td>\n",
       "      <td>Good Characters</td>\n",
       "      <td>Blue Eyes</td>\n",
       "      <td>White Hair</td>\n",
       "      <td>Male Characters</td>\n",
       "      <td>Living Characters</td>\n",
       "      <td>1941.0</td>\n",
       "    </tr>\n",
       "    <tr>\n",
       "      <th>2</th>\n",
       "      <td>Wolverine (James \\\"Logan\\\" Howlett)</td>\n",
       "      <td>Public Identity</td>\n",
       "      <td>Neutral Characters</td>\n",
       "      <td>Blue Eyes</td>\n",
       "      <td>Black Hair</td>\n",
       "      <td>Male Characters</td>\n",
       "      <td>Living Characters</td>\n",
       "      <td>1974.0</td>\n",
       "    </tr>\n",
       "    <tr>\n",
       "      <th>3</th>\n",
       "      <td>Iron Man (Anthony \\\"Tony\\\" Stark)</td>\n",
       "      <td>Public Identity</td>\n",
       "      <td>Good Characters</td>\n",
       "      <td>Blue Eyes</td>\n",
       "      <td>Black Hair</td>\n",
       "      <td>Male Characters</td>\n",
       "      <td>Living Characters</td>\n",
       "      <td>1963.0</td>\n",
       "    </tr>\n",
       "    <tr>\n",
       "      <th>4</th>\n",
       "      <td>Thor (Thor Odinson)</td>\n",
       "      <td>No Dual Identity</td>\n",
       "      <td>Good Characters</td>\n",
       "      <td>Blue Eyes</td>\n",
       "      <td>Blond Hair</td>\n",
       "      <td>Male Characters</td>\n",
       "      <td>Living Characters</td>\n",
       "      <td>1950.0</td>\n",
       "    </tr>\n",
       "  </tbody>\n",
       "</table>\n",
       "</div>"
      ],
      "text/plain": [
       "                                  name                ID               ALIGN  \\\n",
       "0            Spider-Man (Peter Parker)   Secret Identity     Good Characters   \n",
       "1      Captain America (Steven Rogers)   Public Identity     Good Characters   \n",
       "2  Wolverine (James \\\"Logan\\\" Howlett)   Public Identity  Neutral Characters   \n",
       "3    Iron Man (Anthony \\\"Tony\\\" Stark)   Public Identity     Good Characters   \n",
       "4                  Thor (Thor Odinson)  No Dual Identity     Good Characters   \n",
       "\n",
       "          EYE        HAIR              SEX              ALIVE    Year  \n",
       "0  Hazel Eyes  Brown Hair  Male Characters  Living Characters  1962.0  \n",
       "1   Blue Eyes  White Hair  Male Characters  Living Characters  1941.0  \n",
       "2   Blue Eyes  Black Hair  Male Characters  Living Characters  1974.0  \n",
       "3   Blue Eyes  Black Hair  Male Characters  Living Characters  1963.0  \n",
       "4   Blue Eyes  Blond Hair  Male Characters  Living Characters  1950.0  "
      ]
     },
     "execution_count": 952,
     "metadata": {},
     "output_type": "execute_result"
    }
   ],
   "source": [
    "#removing column 'GSM'\n",
    "dataframe.drop('GSM', axis=1, inplace = True)\n",
    "dataframe.head()"
   ]
  },
  {
   "cell_type": "code",
   "execution_count": 953,
   "metadata": {},
   "outputs": [
    {
     "data": {
      "text/html": [
       "<div>\n",
       "<style scoped>\n",
       "    .dataframe tbody tr th:only-of-type {\n",
       "        vertical-align: middle;\n",
       "    }\n",
       "\n",
       "    .dataframe tbody tr th {\n",
       "        vertical-align: top;\n",
       "    }\n",
       "\n",
       "    .dataframe thead th {\n",
       "        text-align: right;\n",
       "    }\n",
       "</style>\n",
       "<table border=\"1\" class=\"dataframe\">\n",
       "  <thead>\n",
       "    <tr style=\"text-align: right;\">\n",
       "      <th></th>\n",
       "      <th>name</th>\n",
       "      <th>id</th>\n",
       "      <th>align</th>\n",
       "      <th>eye</th>\n",
       "      <th>hair</th>\n",
       "      <th>sex</th>\n",
       "      <th>alive</th>\n",
       "      <th>year</th>\n",
       "    </tr>\n",
       "  </thead>\n",
       "  <tbody>\n",
       "    <tr>\n",
       "      <th>0</th>\n",
       "      <td>Spider-Man (Peter Parker)</td>\n",
       "      <td>Secret Identity</td>\n",
       "      <td>Good Characters</td>\n",
       "      <td>Hazel Eyes</td>\n",
       "      <td>Brown Hair</td>\n",
       "      <td>Male Characters</td>\n",
       "      <td>Living Characters</td>\n",
       "      <td>1962.0</td>\n",
       "    </tr>\n",
       "    <tr>\n",
       "      <th>1</th>\n",
       "      <td>Captain America (Steven Rogers)</td>\n",
       "      <td>Public Identity</td>\n",
       "      <td>Good Characters</td>\n",
       "      <td>Blue Eyes</td>\n",
       "      <td>White Hair</td>\n",
       "      <td>Male Characters</td>\n",
       "      <td>Living Characters</td>\n",
       "      <td>1941.0</td>\n",
       "    </tr>\n",
       "    <tr>\n",
       "      <th>2</th>\n",
       "      <td>Wolverine (James \\\"Logan\\\" Howlett)</td>\n",
       "      <td>Public Identity</td>\n",
       "      <td>Neutral Characters</td>\n",
       "      <td>Blue Eyes</td>\n",
       "      <td>Black Hair</td>\n",
       "      <td>Male Characters</td>\n",
       "      <td>Living Characters</td>\n",
       "      <td>1974.0</td>\n",
       "    </tr>\n",
       "    <tr>\n",
       "      <th>3</th>\n",
       "      <td>Iron Man (Anthony \\\"Tony\\\" Stark)</td>\n",
       "      <td>Public Identity</td>\n",
       "      <td>Good Characters</td>\n",
       "      <td>Blue Eyes</td>\n",
       "      <td>Black Hair</td>\n",
       "      <td>Male Characters</td>\n",
       "      <td>Living Characters</td>\n",
       "      <td>1963.0</td>\n",
       "    </tr>\n",
       "    <tr>\n",
       "      <th>4</th>\n",
       "      <td>Thor (Thor Odinson)</td>\n",
       "      <td>No Dual Identity</td>\n",
       "      <td>Good Characters</td>\n",
       "      <td>Blue Eyes</td>\n",
       "      <td>Blond Hair</td>\n",
       "      <td>Male Characters</td>\n",
       "      <td>Living Characters</td>\n",
       "      <td>1950.0</td>\n",
       "    </tr>\n",
       "  </tbody>\n",
       "</table>\n",
       "</div>"
      ],
      "text/plain": [
       "                                  name                id               align  \\\n",
       "0            Spider-Man (Peter Parker)   Secret Identity     Good Characters   \n",
       "1      Captain America (Steven Rogers)   Public Identity     Good Characters   \n",
       "2  Wolverine (James \\\"Logan\\\" Howlett)   Public Identity  Neutral Characters   \n",
       "3    Iron Man (Anthony \\\"Tony\\\" Stark)   Public Identity     Good Characters   \n",
       "4                  Thor (Thor Odinson)  No Dual Identity     Good Characters   \n",
       "\n",
       "          eye        hair              sex              alive    year  \n",
       "0  Hazel Eyes  Brown Hair  Male Characters  Living Characters  1962.0  \n",
       "1   Blue Eyes  White Hair  Male Characters  Living Characters  1941.0  \n",
       "2   Blue Eyes  Black Hair  Male Characters  Living Characters  1974.0  \n",
       "3   Blue Eyes  Black Hair  Male Characters  Living Characters  1963.0  \n",
       "4   Blue Eyes  Blond Hair  Male Characters  Living Characters  1950.0  "
      ]
     },
     "execution_count": 953,
     "metadata": {},
     "output_type": "execute_result"
    }
   ],
   "source": [
    "##cleaning the columns headers to all lowercase to make it easier to work with \n",
    "dataframe.columns = dataframe.columns.str.strip().str.lower()\n",
    "dataframe.head()"
   ]
  },
  {
   "cell_type": "code",
   "execution_count": 954,
   "metadata": {},
   "outputs": [
    {
     "data": {
      "text/html": [
       "<div>\n",
       "<style scoped>\n",
       "    .dataframe tbody tr th:only-of-type {\n",
       "        vertical-align: middle;\n",
       "    }\n",
       "\n",
       "    .dataframe tbody tr th {\n",
       "        vertical-align: top;\n",
       "    }\n",
       "\n",
       "    .dataframe thead th {\n",
       "        text-align: right;\n",
       "    }\n",
       "</style>\n",
       "<table border=\"1\" class=\"dataframe\">\n",
       "  <thead>\n",
       "    <tr style=\"text-align: right;\">\n",
       "      <th></th>\n",
       "      <th>name</th>\n",
       "      <th>identity</th>\n",
       "      <th>personality</th>\n",
       "      <th>eye</th>\n",
       "      <th>hair</th>\n",
       "      <th>gender</th>\n",
       "      <th>alive</th>\n",
       "      <th>year</th>\n",
       "    </tr>\n",
       "  </thead>\n",
       "  <tbody>\n",
       "    <tr>\n",
       "      <th>0</th>\n",
       "      <td>Spider-Man (Peter Parker)</td>\n",
       "      <td>Secret Identity</td>\n",
       "      <td>Good Characters</td>\n",
       "      <td>Hazel Eyes</td>\n",
       "      <td>Brown Hair</td>\n",
       "      <td>Male Characters</td>\n",
       "      <td>Living Characters</td>\n",
       "      <td>1962.0</td>\n",
       "    </tr>\n",
       "    <tr>\n",
       "      <th>1</th>\n",
       "      <td>Captain America (Steven Rogers)</td>\n",
       "      <td>Public Identity</td>\n",
       "      <td>Good Characters</td>\n",
       "      <td>Blue Eyes</td>\n",
       "      <td>White Hair</td>\n",
       "      <td>Male Characters</td>\n",
       "      <td>Living Characters</td>\n",
       "      <td>1941.0</td>\n",
       "    </tr>\n",
       "    <tr>\n",
       "      <th>2</th>\n",
       "      <td>Wolverine (James \\\"Logan\\\" Howlett)</td>\n",
       "      <td>Public Identity</td>\n",
       "      <td>Neutral Characters</td>\n",
       "      <td>Blue Eyes</td>\n",
       "      <td>Black Hair</td>\n",
       "      <td>Male Characters</td>\n",
       "      <td>Living Characters</td>\n",
       "      <td>1974.0</td>\n",
       "    </tr>\n",
       "    <tr>\n",
       "      <th>3</th>\n",
       "      <td>Iron Man (Anthony \\\"Tony\\\" Stark)</td>\n",
       "      <td>Public Identity</td>\n",
       "      <td>Good Characters</td>\n",
       "      <td>Blue Eyes</td>\n",
       "      <td>Black Hair</td>\n",
       "      <td>Male Characters</td>\n",
       "      <td>Living Characters</td>\n",
       "      <td>1963.0</td>\n",
       "    </tr>\n",
       "    <tr>\n",
       "      <th>4</th>\n",
       "      <td>Thor (Thor Odinson)</td>\n",
       "      <td>No Dual Identity</td>\n",
       "      <td>Good Characters</td>\n",
       "      <td>Blue Eyes</td>\n",
       "      <td>Blond Hair</td>\n",
       "      <td>Male Characters</td>\n",
       "      <td>Living Characters</td>\n",
       "      <td>1950.0</td>\n",
       "    </tr>\n",
       "  </tbody>\n",
       "</table>\n",
       "</div>"
      ],
      "text/plain": [
       "                                  name          identity         personality  \\\n",
       "0            Spider-Man (Peter Parker)   Secret Identity     Good Characters   \n",
       "1      Captain America (Steven Rogers)   Public Identity     Good Characters   \n",
       "2  Wolverine (James \\\"Logan\\\" Howlett)   Public Identity  Neutral Characters   \n",
       "3    Iron Man (Anthony \\\"Tony\\\" Stark)   Public Identity     Good Characters   \n",
       "4                  Thor (Thor Odinson)  No Dual Identity     Good Characters   \n",
       "\n",
       "          eye        hair           gender              alive    year  \n",
       "0  Hazel Eyes  Brown Hair  Male Characters  Living Characters  1962.0  \n",
       "1   Blue Eyes  White Hair  Male Characters  Living Characters  1941.0  \n",
       "2   Blue Eyes  Black Hair  Male Characters  Living Characters  1974.0  \n",
       "3   Blue Eyes  Black Hair  Male Characters  Living Characters  1963.0  \n",
       "4   Blue Eyes  Blond Hair  Male Characters  Living Characters  1950.0  "
      ]
     },
     "execution_count": 954,
     "metadata": {},
     "output_type": "execute_result"
    }
   ],
   "source": [
    "#renaming some of the headers\n",
    "dataframe.rename(columns={'id':'identity',\n",
    "                          'align':'personality',\n",
    "                         'sex':'gender'}, \n",
    "                 inplace=True)\n",
    "dataframe.head()"
   ]
  },
  {
   "cell_type": "code",
   "execution_count": 955,
   "metadata": {},
   "outputs": [
    {
     "data": {
      "text/html": [
       "<div>\n",
       "<style scoped>\n",
       "    .dataframe tbody tr th:only-of-type {\n",
       "        vertical-align: middle;\n",
       "    }\n",
       "\n",
       "    .dataframe tbody tr th {\n",
       "        vertical-align: top;\n",
       "    }\n",
       "\n",
       "    .dataframe thead th {\n",
       "        text-align: right;\n",
       "    }\n",
       "</style>\n",
       "<table border=\"1\" class=\"dataframe\">\n",
       "  <thead>\n",
       "    <tr style=\"text-align: right;\">\n",
       "      <th></th>\n",
       "      <th>name</th>\n",
       "      <th>identity</th>\n",
       "      <th>personality</th>\n",
       "      <th>eye</th>\n",
       "      <th>hair</th>\n",
       "      <th>gender</th>\n",
       "      <th>alive</th>\n",
       "      <th>year</th>\n",
       "    </tr>\n",
       "  </thead>\n",
       "  <tbody>\n",
       "    <tr>\n",
       "      <th>0</th>\n",
       "      <td>Spider-Man</td>\n",
       "      <td>Secret</td>\n",
       "      <td>Good</td>\n",
       "      <td>Hazel</td>\n",
       "      <td>Brown</td>\n",
       "      <td>Male</td>\n",
       "      <td>Living</td>\n",
       "      <td>1962.0</td>\n",
       "    </tr>\n",
       "    <tr>\n",
       "      <th>1</th>\n",
       "      <td>Captain America</td>\n",
       "      <td>Public</td>\n",
       "      <td>Good</td>\n",
       "      <td>Blue</td>\n",
       "      <td>White</td>\n",
       "      <td>Male</td>\n",
       "      <td>Living</td>\n",
       "      <td>1941.0</td>\n",
       "    </tr>\n",
       "    <tr>\n",
       "      <th>2</th>\n",
       "      <td>Wolverine</td>\n",
       "      <td>Public</td>\n",
       "      <td>Neutral</td>\n",
       "      <td>Blue</td>\n",
       "      <td>Black</td>\n",
       "      <td>Male</td>\n",
       "      <td>Living</td>\n",
       "      <td>1974.0</td>\n",
       "    </tr>\n",
       "    <tr>\n",
       "      <th>3</th>\n",
       "      <td>Iron Man</td>\n",
       "      <td>Public</td>\n",
       "      <td>Good</td>\n",
       "      <td>Blue</td>\n",
       "      <td>Black</td>\n",
       "      <td>Male</td>\n",
       "      <td>Living</td>\n",
       "      <td>1963.0</td>\n",
       "    </tr>\n",
       "    <tr>\n",
       "      <th>4</th>\n",
       "      <td>Thor</td>\n",
       "      <td>No Dual</td>\n",
       "      <td>Good</td>\n",
       "      <td>Blue</td>\n",
       "      <td>Blond</td>\n",
       "      <td>Male</td>\n",
       "      <td>Living</td>\n",
       "      <td>1950.0</td>\n",
       "    </tr>\n",
       "  </tbody>\n",
       "</table>\n",
       "</div>"
      ],
      "text/plain": [
       "               name  identity personality     eye    hair gender    alive  \\\n",
       "0       Spider-Man    Secret        Good   Hazel   Brown   Male   Living    \n",
       "1  Captain America    Public        Good    Blue   White   Male   Living    \n",
       "2        Wolverine    Public     Neutral    Blue   Black   Male   Living    \n",
       "3         Iron Man    Public        Good    Blue   Black   Male   Living    \n",
       "4             Thor   No Dual        Good    Blue   Blond   Male   Living    \n",
       "\n",
       "     year  \n",
       "0  1962.0  \n",
       "1  1941.0  \n",
       "2  1974.0  \n",
       "3  1963.0  \n",
       "4  1950.0  "
      ]
     },
     "execution_count": 955,
     "metadata": {},
     "output_type": "execute_result"
    }
   ],
   "source": [
    "#removing certain text from some columns that seems reduntant and unnecessary\n",
    "dataframe['eye'] = dataframe['eye'].str.replace('Eyes', '')\n",
    "dataframe['hair'] = dataframe['hair'].str.replace('Hair', '')\n",
    "dataframe['gender'] = dataframe['gender'].str.replace('Characters', '')\n",
    "dataframe['alive'] = dataframe['alive'].str.replace('Characters', '')\n",
    "dataframe['personality'] = dataframe['personality'].str.replace('Characters', '')\n",
    "dataframe['identity'] = dataframe['identity'].str.replace('Identity', '')\n",
    "dataframe['name']  = dataframe['name'] .str.replace(r'\\(.*?\\)','')\n",
    "dataframe.head()"
   ]
  },
  {
   "cell_type": "code",
   "execution_count": 956,
   "metadata": {},
   "outputs": [
    {
     "data": {
      "text/html": [
       "<div>\n",
       "<style scoped>\n",
       "    .dataframe tbody tr th:only-of-type {\n",
       "        vertical-align: middle;\n",
       "    }\n",
       "\n",
       "    .dataframe tbody tr th {\n",
       "        vertical-align: top;\n",
       "    }\n",
       "\n",
       "    .dataframe thead th {\n",
       "        text-align: right;\n",
       "    }\n",
       "</style>\n",
       "<table border=\"1\" class=\"dataframe\">\n",
       "  <thead>\n",
       "    <tr style=\"text-align: right;\">\n",
       "      <th></th>\n",
       "      <th>name</th>\n",
       "      <th>identity</th>\n",
       "      <th>personality</th>\n",
       "      <th>eye</th>\n",
       "      <th>hair</th>\n",
       "      <th>gender</th>\n",
       "      <th>alive</th>\n",
       "      <th>year</th>\n",
       "    </tr>\n",
       "  </thead>\n",
       "  <tbody>\n",
       "    <tr>\n",
       "      <th>0</th>\n",
       "      <td>Spider-Man</td>\n",
       "      <td>Secret</td>\n",
       "      <td>Good</td>\n",
       "      <td>Hazel</td>\n",
       "      <td>Brown</td>\n",
       "      <td>Male</td>\n",
       "      <td>Living</td>\n",
       "      <td>1962.0</td>\n",
       "    </tr>\n",
       "    <tr>\n",
       "      <th>1</th>\n",
       "      <td>Captain America</td>\n",
       "      <td>Public</td>\n",
       "      <td>Good</td>\n",
       "      <td>Blue</td>\n",
       "      <td>White</td>\n",
       "      <td>Male</td>\n",
       "      <td>Living</td>\n",
       "      <td>1941.0</td>\n",
       "    </tr>\n",
       "    <tr>\n",
       "      <th>2</th>\n",
       "      <td>Wolverine</td>\n",
       "      <td>Public</td>\n",
       "      <td>Neutral</td>\n",
       "      <td>Blue</td>\n",
       "      <td>Black</td>\n",
       "      <td>Male</td>\n",
       "      <td>Living</td>\n",
       "      <td>1974.0</td>\n",
       "    </tr>\n",
       "    <tr>\n",
       "      <th>3</th>\n",
       "      <td>Iron Man</td>\n",
       "      <td>Public</td>\n",
       "      <td>Good</td>\n",
       "      <td>Blue</td>\n",
       "      <td>Black</td>\n",
       "      <td>Male</td>\n",
       "      <td>Living</td>\n",
       "      <td>1963.0</td>\n",
       "    </tr>\n",
       "    <tr>\n",
       "      <th>4</th>\n",
       "      <td>Thor</td>\n",
       "      <td>No Dual</td>\n",
       "      <td>Good</td>\n",
       "      <td>Blue</td>\n",
       "      <td>Blond</td>\n",
       "      <td>Male</td>\n",
       "      <td>Living</td>\n",
       "      <td>1950.0</td>\n",
       "    </tr>\n",
       "  </tbody>\n",
       "</table>\n",
       "</div>"
      ],
      "text/plain": [
       "              name  identity personality     eye    hair gender    alive  \\\n",
       "0       Spider-Man   Secret        Good   Hazel   Brown   Male   Living    \n",
       "1  Captain America   Public        Good    Blue   White   Male   Living    \n",
       "2        Wolverine   Public     Neutral    Blue   Black   Male   Living    \n",
       "3         Iron Man   Public        Good    Blue   Black   Male   Living    \n",
       "4             Thor  No Dual        Good    Blue   Blond   Male   Living    \n",
       "\n",
       "     year  \n",
       "0  1962.0  \n",
       "1  1941.0  \n",
       "2  1974.0  \n",
       "3  1963.0  \n",
       "4  1950.0  "
      ]
     },
     "execution_count": 956,
     "metadata": {},
     "output_type": "execute_result"
    }
   ],
   "source": [
    "def strip_whitespace(stri):\n",
    "    return stri.strip()\n",
    "#applying the function for education column and creating a new column\n",
    "dataframe['name']=dataframe['name'].apply(strip_whitespace)\n",
    "dataframe.head()\n",
    "#dataframe.shape"
   ]
  },
  {
   "cell_type": "code",
   "execution_count": 957,
   "metadata": {},
   "outputs": [
    {
     "data": {
      "text/html": [
       "<div>\n",
       "<style scoped>\n",
       "    .dataframe tbody tr th:only-of-type {\n",
       "        vertical-align: middle;\n",
       "    }\n",
       "\n",
       "    .dataframe tbody tr th {\n",
       "        vertical-align: top;\n",
       "    }\n",
       "\n",
       "    .dataframe thead th {\n",
       "        text-align: right;\n",
       "    }\n",
       "</style>\n",
       "<table border=\"1\" class=\"dataframe\">\n",
       "  <thead>\n",
       "    <tr style=\"text-align: right;\">\n",
       "      <th></th>\n",
       "      <th>name</th>\n",
       "      <th>identity</th>\n",
       "      <th>personality</th>\n",
       "      <th>eye</th>\n",
       "      <th>hair</th>\n",
       "      <th>gender</th>\n",
       "      <th>alive</th>\n",
       "      <th>year</th>\n",
       "    </tr>\n",
       "  </thead>\n",
       "  <tbody>\n",
       "    <tr>\n",
       "      <th>0</th>\n",
       "      <td>Spider-Man</td>\n",
       "      <td>secret</td>\n",
       "      <td>good</td>\n",
       "      <td>hazel</td>\n",
       "      <td>brown</td>\n",
       "      <td>male</td>\n",
       "      <td>living</td>\n",
       "      <td>1962.0</td>\n",
       "    </tr>\n",
       "    <tr>\n",
       "      <th>1</th>\n",
       "      <td>Captain America</td>\n",
       "      <td>public</td>\n",
       "      <td>good</td>\n",
       "      <td>blue</td>\n",
       "      <td>white</td>\n",
       "      <td>male</td>\n",
       "      <td>living</td>\n",
       "      <td>1941.0</td>\n",
       "    </tr>\n",
       "    <tr>\n",
       "      <th>2</th>\n",
       "      <td>Wolverine</td>\n",
       "      <td>public</td>\n",
       "      <td>neutral</td>\n",
       "      <td>blue</td>\n",
       "      <td>black</td>\n",
       "      <td>male</td>\n",
       "      <td>living</td>\n",
       "      <td>1974.0</td>\n",
       "    </tr>\n",
       "    <tr>\n",
       "      <th>3</th>\n",
       "      <td>Iron Man</td>\n",
       "      <td>public</td>\n",
       "      <td>good</td>\n",
       "      <td>blue</td>\n",
       "      <td>black</td>\n",
       "      <td>male</td>\n",
       "      <td>living</td>\n",
       "      <td>1963.0</td>\n",
       "    </tr>\n",
       "    <tr>\n",
       "      <th>4</th>\n",
       "      <td>Thor</td>\n",
       "      <td>no dual</td>\n",
       "      <td>good</td>\n",
       "      <td>blue</td>\n",
       "      <td>blond</td>\n",
       "      <td>male</td>\n",
       "      <td>living</td>\n",
       "      <td>1950.0</td>\n",
       "    </tr>\n",
       "  </tbody>\n",
       "</table>\n",
       "</div>"
      ],
      "text/plain": [
       "              name  identity personality     eye    hair gender    alive  \\\n",
       "0       Spider-Man   secret        good   hazel   brown   male   living    \n",
       "1  Captain America   public        good    blue   white   male   living    \n",
       "2        Wolverine   public     neutral    blue   black   male   living    \n",
       "3         Iron Man   public        good    blue   black   male   living    \n",
       "4             Thor  no dual        good    blue   blond   male   living    \n",
       "\n",
       "     year  \n",
       "0  1962.0  \n",
       "1  1941.0  \n",
       "2  1974.0  \n",
       "3  1963.0  \n",
       "4  1950.0  "
      ]
     },
     "execution_count": 957,
     "metadata": {},
     "output_type": "execute_result"
    }
   ],
   "source": [
    "#converting all of the text except for the column 'name' to lowercase for consistency in future analysis when working with multiple dataframes.\n",
    "dataframe['personality'] = dataframe['personality'].str.lower()\n",
    "dataframe['eye'] = dataframe['eye'].str.lower()\n",
    "dataframe['identity'] = dataframe['identity'].str.lower()\n",
    "dataframe['hair'] = dataframe['hair'].str.lower()\n",
    "dataframe['gender'] = dataframe['gender'].str.lower()\n",
    "dataframe['alive'] = dataframe['alive'].str.lower()\n",
    "dataframe.head()"
   ]
  },
  {
   "cell_type": "code",
   "execution_count": 958,
   "metadata": {},
   "outputs": [
    {
     "data": {
      "text/html": [
       "<div>\n",
       "<style scoped>\n",
       "    .dataframe tbody tr th:only-of-type {\n",
       "        vertical-align: middle;\n",
       "    }\n",
       "\n",
       "    .dataframe tbody tr th {\n",
       "        vertical-align: top;\n",
       "    }\n",
       "\n",
       "    .dataframe thead th {\n",
       "        text-align: right;\n",
       "    }\n",
       "</style>\n",
       "<table border=\"1\" class=\"dataframe\">\n",
       "  <thead>\n",
       "    <tr style=\"text-align: right;\">\n",
       "      <th></th>\n",
       "      <th>name</th>\n",
       "      <th>identity</th>\n",
       "      <th>personality</th>\n",
       "      <th>eye</th>\n",
       "      <th>hair</th>\n",
       "      <th>gender</th>\n",
       "      <th>alive</th>\n",
       "      <th>year</th>\n",
       "    </tr>\n",
       "  </thead>\n",
       "  <tbody>\n",
       "    <tr>\n",
       "      <th>0</th>\n",
       "      <td>Spider-Man</td>\n",
       "      <td>secret</td>\n",
       "      <td>good</td>\n",
       "      <td>hazel</td>\n",
       "      <td>brown</td>\n",
       "      <td>male</td>\n",
       "      <td>living</td>\n",
       "      <td>1962.0</td>\n",
       "    </tr>\n",
       "    <tr>\n",
       "      <th>1</th>\n",
       "      <td>Captain America</td>\n",
       "      <td>public</td>\n",
       "      <td>good</td>\n",
       "      <td>blue</td>\n",
       "      <td>white</td>\n",
       "      <td>male</td>\n",
       "      <td>living</td>\n",
       "      <td>1941.0</td>\n",
       "    </tr>\n",
       "    <tr>\n",
       "      <th>2</th>\n",
       "      <td>Wolverine</td>\n",
       "      <td>public</td>\n",
       "      <td>neutral</td>\n",
       "      <td>blue</td>\n",
       "      <td>black</td>\n",
       "      <td>male</td>\n",
       "      <td>living</td>\n",
       "      <td>1974.0</td>\n",
       "    </tr>\n",
       "    <tr>\n",
       "      <th>3</th>\n",
       "      <td>Iron Man</td>\n",
       "      <td>public</td>\n",
       "      <td>good</td>\n",
       "      <td>blue</td>\n",
       "      <td>black</td>\n",
       "      <td>male</td>\n",
       "      <td>living</td>\n",
       "      <td>1963.0</td>\n",
       "    </tr>\n",
       "    <tr>\n",
       "      <th>4</th>\n",
       "      <td>Thor</td>\n",
       "      <td>no dual</td>\n",
       "      <td>good</td>\n",
       "      <td>blue</td>\n",
       "      <td>blond</td>\n",
       "      <td>male</td>\n",
       "      <td>living</td>\n",
       "      <td>1950.0</td>\n",
       "    </tr>\n",
       "  </tbody>\n",
       "</table>\n",
       "</div>"
      ],
      "text/plain": [
       "              name identity personality    eye   hair gender   alive    year\n",
       "0       Spider-Man   secret        good  hazel  brown   male  living  1962.0\n",
       "1  Captain America   public        good   blue  white   male  living  1941.0\n",
       "2        Wolverine   public     neutral   blue  black   male  living  1974.0\n",
       "3         Iron Man   public        good   blue  black   male  living  1963.0\n",
       "4             Thor  no dual        good   blue  blond   male  living  1950.0"
      ]
     },
     "execution_count": 958,
     "metadata": {},
     "output_type": "execute_result"
    }
   ],
   "source": [
    "#making sure any of the white spaces present are removed\n",
    "dataframe['personality'] = dataframe['personality'].str.strip()\n",
    "dataframe['identity'] = dataframe['identity'].str.strip()\n",
    "dataframe['eye'] = dataframe['eye'].str.strip()\n",
    "dataframe['hair'] = dataframe['hair'].str.strip()\n",
    "dataframe['gender'] = dataframe['gender'].str.strip()\n",
    "dataframe['alive'] = dataframe['alive'].str.strip()\n",
    "dataframe.head()"
   ]
  },
  {
   "cell_type": "code",
   "execution_count": 959,
   "metadata": {},
   "outputs": [
    {
     "data": {
      "text/plain": [
       "(16376, 8)"
      ]
     },
     "execution_count": 959,
     "metadata": {},
     "output_type": "execute_result"
    }
   ],
   "source": [
    "dataframe.shape"
   ]
  },
  {
   "cell_type": "code",
   "execution_count": 960,
   "metadata": {},
   "outputs": [],
   "source": [
    "#after going through the values of column \"name\" I noticed some of the names were practicly ilegible. Before removing duplicates I changed the characters' names when I could.\n",
    "dataframe.at[16171, 'name']='Spider-Girl'\n",
    "dataframe.at[15355,'name']='Thumper Morgan'\n",
    "dataframe.at[515,'name']='Jessan Hoan'\n",
    "dataframe.at[533, 'name']='Esteban Corazon De Ablo'\n",
    "dataframe.at[612,'name']='Armando Munoz'\n",
    "dataframe.at[1233,'name']='Maria Aracely Penalba'\n",
    "dataframe.at[1354,'name']='Samuel Pare'\n",
    "dataframe.at[1783,'name']='Andrew Gerard'\n",
    "dataframe.at[2357, 'name']='Gloria Munoz'\n",
    "dataframe.at[4567, 'name']='Achmed El Gibar'\n",
    "dataframe.at[6091,'name']='Rene Duquesne'\n",
    "dataframe.at[6437,'name']='Virtual Organism Turing Experiment'\n",
    "dataframe.at[6783,'name']='Hector Munoz'\n",
    "dataframe.at[7004,'name']='Salaḥ ad-Din Yusuf ibn Ayyub'\n",
    "dataframe.at[7585,'name']='Flambe'\n",
    "dataframe.at[9659,'name']='Tomas Aguado'\n",
    "dataframe.at[9672,'name']=' Hughes Ait-Kaci '\n",
    "dataframe.at[9979,'name']='Gunter Gross'\n",
    "dataframe.at[12371,'name']='Kane Milohai'\n",
    "dataframe.at[12827,'name']=\"Amber D'Alexis\"\n",
    "dataframe.at[12992,\"name\"]='Senor Muerte'\n",
    "dataframe.at[13850,'name']= 'Nefer Neith Sinu'\n",
    "dataframe.at[14407,'name']='Marcus Estrada'\n",
    "dataframe.at[14479,'name']='Detective Fantome'\n",
    "dataframe.at[15759,'name']='Vortex'\n",
    "dataframe.at[15288,'name']='Elizabeth Ross'\n"
   ]
  },
  {
   "cell_type": "code",
   "execution_count": 961,
   "metadata": {},
   "outputs": [
    {
     "data": {
      "text/plain": [
       "(16376, 8)"
      ]
     },
     "execution_count": 961,
     "metadata": {},
     "output_type": "execute_result"
    }
   ],
   "source": [
    "dataframe.shape"
   ]
  },
  {
   "cell_type": "code",
   "execution_count": 962,
   "metadata": {},
   "outputs": [
    {
     "data": {
      "text/plain": [
       "name           Elizabeth Ross\n",
       "identity               secret\n",
       "personality              good\n",
       "eye                      blue\n",
       "hair                    blond\n",
       "gender                 female\n",
       "alive                  living\n",
       "year                     1941\n",
       "Name: 15288, dtype: object"
      ]
     },
     "execution_count": 962,
     "metadata": {},
     "output_type": "execute_result"
    }
   ],
   "source": [
    "#confirming if any of the changes took place\n",
    "dataframe.loc[15288]"
   ]
  },
  {
   "cell_type": "code",
   "execution_count": 963,
   "metadata": {},
   "outputs": [
    {
     "data": {
      "text/plain": [
       "(16361, 8)"
      ]
     },
     "execution_count": 963,
     "metadata": {},
     "output_type": "execute_result"
    }
   ],
   "source": [
    "#removing the rows with the names that couldn't be deciphered\n",
    "dataframe.drop([dataframe.index[2278], dataframe.index[2714], dataframe.index[2716], dataframe.index[3322], dataframe.index[3441], dataframe.index[6737], dataframe.index[6874], dataframe.index[7709], dataframe.index[9241], dataframe.index[13498], dataframe.index[14466],  dataframe.index[14743], dataframe.index[15430], dataframe.index[15498], dataframe.index[16113]],inplace=True)\n",
    "#checking if the observations were removed\n",
    "dataframe.shape"
   ]
  },
  {
   "cell_type": "code",
   "execution_count": 964,
   "metadata": {},
   "outputs": [
    {
     "data": {
      "text/plain": [
       "(16287, 8)"
      ]
     },
     "execution_count": 964,
     "metadata": {},
     "output_type": "execute_result"
    }
   ],
   "source": [
    "#removing duplicates but trying to keep the value out of the two or three identical ones  that has no missing values for the variable 'year' \n",
    "#since for this Milestone I willbe removing missing values for the column 'year' .\n",
    "dataframe = dataframe[~dataframe['name'].duplicated(keep=False) | dataframe[['year']].notnull().any(axis=1)]\n",
    "dataframe.shape"
   ]
  },
  {
   "cell_type": "code",
   "execution_count": 965,
   "metadata": {},
   "outputs": [
    {
     "data": {
      "text/plain": [
       "(16175, 8)"
      ]
     },
     "execution_count": 965,
     "metadata": {},
     "output_type": "execute_result"
    }
   ],
   "source": [
    "#removing duplicates but trying to keep the value out of the two or three identical ones that has no missing values for the variables 'personality' and 'identity'.\n",
    "dataframe = dataframe[~dataframe['name'].duplicated(keep=False) | dataframe[['personality', 'identity']].notnull().any(axis=1)]\n",
    "dataframe.shape"
   ]
  },
  {
   "cell_type": "code",
   "execution_count": 966,
   "metadata": {},
   "outputs": [
    {
     "data": {
      "text/plain": [
       "(16130, 8)"
      ]
     },
     "execution_count": 966,
     "metadata": {},
     "output_type": "execute_result"
    }
   ],
   "source": [
    "#removing duplicates but trying to keep the value out of the two or three identical ones that has no missing values for the variables 'hair' and 'gender'.\n",
    "dataframe = dataframe[~dataframe['name'].duplicated(keep=False) | dataframe[['hair', 'gender']].notnull().any(axis=1)]\n",
    "dataframe.shape"
   ]
  },
  {
   "cell_type": "code",
   "execution_count": 967,
   "metadata": {},
   "outputs": [
    {
     "data": {
      "text/plain": [
       "(15408, 8)"
      ]
     },
     "execution_count": 967,
     "metadata": {},
     "output_type": "execute_result"
    }
   ],
   "source": [
    "#removing duplicates but trying to keep the value out of the two or three identical ones that has no missing values for the variables 'eye'. \n",
    "#It has the most missing values, so it was considered last.Plus, missing values for this column won't be removed until I join the dataframes because \n",
    "#the same column is present in another dataset.\n",
    "dataframe = dataframe[~dataframe['name'].duplicated(keep=False) | dataframe[['eye']].notnull().any(axis=1)]\n",
    "dataframe.shape"
   ]
  },
  {
   "cell_type": "code",
   "execution_count": 968,
   "metadata": {},
   "outputs": [
    {
     "data": {
      "text/plain": [
       "(15173, 8)"
      ]
     },
     "execution_count": 968,
     "metadata": {},
     "output_type": "execute_result"
    }
   ],
   "source": [
    "#removing the rest of the duplicates\n",
    "dataframe.drop_duplicates(subset='name', keep=\"first\", inplace=True)\n",
    "dataframe.shape"
   ]
  },
  {
   "cell_type": "code",
   "execution_count": 969,
   "metadata": {},
   "outputs": [
    {
     "data": {
      "text/plain": [
       "name              0\n",
       "identity       3390\n",
       "personality    2567\n",
       "eye            8855\n",
       "hair           3782\n",
       "gender          760\n",
       "alive             3\n",
       "year            741\n",
       "dtype: int64"
      ]
     },
     "execution_count": 969,
     "metadata": {},
     "output_type": "execute_result"
    }
   ],
   "source": [
    "#after removing the duplicates considering the missing values in other columns I was able to keep more records that have fewer missing values and remove those that had more missing values.\n",
    "dataframe.isnull().sum()"
   ]
  },
  {
   "cell_type": "code",
   "execution_count": 970,
   "metadata": {},
   "outputs": [
    {
     "data": {
      "text/html": [
       "<div>\n",
       "<style scoped>\n",
       "    .dataframe tbody tr th:only-of-type {\n",
       "        vertical-align: middle;\n",
       "    }\n",
       "\n",
       "    .dataframe tbody tr th {\n",
       "        vertical-align: top;\n",
       "    }\n",
       "\n",
       "    .dataframe thead th {\n",
       "        text-align: right;\n",
       "    }\n",
       "</style>\n",
       "<table border=\"1\" class=\"dataframe\">\n",
       "  <thead>\n",
       "    <tr style=\"text-align: right;\">\n",
       "      <th></th>\n",
       "      <th>name</th>\n",
       "      <th>identity</th>\n",
       "      <th>personality</th>\n",
       "      <th>eye</th>\n",
       "      <th>hair</th>\n",
       "      <th>gender</th>\n",
       "      <th>alive</th>\n",
       "      <th>year</th>\n",
       "    </tr>\n",
       "  </thead>\n",
       "  <tbody>\n",
       "    <tr>\n",
       "      <th>16293</th>\n",
       "      <td>Mj7711</td>\n",
       "      <td>NaN</td>\n",
       "      <td>NaN</td>\n",
       "      <td>NaN</td>\n",
       "      <td>NaN</td>\n",
       "      <td>NaN</td>\n",
       "      <td>NaN</td>\n",
       "      <td>NaN</td>\n",
       "    </tr>\n",
       "    <tr>\n",
       "      <th>16329</th>\n",
       "      <td>Sharjeel786</td>\n",
       "      <td>NaN</td>\n",
       "      <td>NaN</td>\n",
       "      <td>NaN</td>\n",
       "      <td>NaN</td>\n",
       "      <td>NaN</td>\n",
       "      <td>NaN</td>\n",
       "      <td>NaN</td>\n",
       "    </tr>\n",
       "    <tr>\n",
       "      <th>16347</th>\n",
       "      <td>TOR\\/test</td>\n",
       "      <td>NaN</td>\n",
       "      <td>NaN</td>\n",
       "      <td>NaN</td>\n",
       "      <td>NaN</td>\n",
       "      <td>NaN</td>\n",
       "      <td>NaN</td>\n",
       "      <td>NaN</td>\n",
       "    </tr>\n",
       "  </tbody>\n",
       "</table>\n",
       "</div>"
      ],
      "text/plain": [
       "              name identity personality  eye hair gender alive  year\n",
       "16293       Mj7711      NaN         NaN  NaN  NaN    NaN   NaN   NaN\n",
       "16329  Sharjeel786      NaN         NaN  NaN  NaN    NaN   NaN   NaN\n",
       "16347    TOR\\/test      NaN         NaN  NaN  NaN    NaN   NaN   NaN"
      ]
     },
     "execution_count": 970,
     "metadata": {},
     "output_type": "execute_result"
    }
   ],
   "source": [
    "#first I want to look closer at the 3 missing values for column ['alive']\n",
    "dataframe[dataframe['alive'].isnull()]\n",
    "#It looks like these observation do not have any valuable information except for the name. I will be removing them from the data set"
   ]
  },
  {
   "cell_type": "code",
   "execution_count": 971,
   "metadata": {},
   "outputs": [
    {
     "data": {
      "text/plain": [
       "0"
      ]
     },
     "execution_count": 971,
     "metadata": {},
     "output_type": "execute_result"
    }
   ],
   "source": [
    "#removing the three missing values for this column\n",
    "dataframe = dataframe.dropna(how='any', subset=['alive'])\n",
    "len(dataframe[dataframe['alive'].isnull()])"
   ]
  },
  {
   "cell_type": "code",
   "execution_count": 972,
   "metadata": {},
   "outputs": [
    {
     "data": {
      "text/plain": [
       "array(['living', 'deceased'], dtype=object)"
      ]
     },
     "execution_count": 972,
     "metadata": {},
     "output_type": "execute_result"
    }
   ],
   "source": [
    "#checking what values are unique for column 'alive'\n",
    "dataframe['alive'].unique()"
   ]
  },
  {
   "cell_type": "code",
   "execution_count": 973,
   "metadata": {},
   "outputs": [
    {
     "data": {
      "image/png": "[encoded data removed]",
      "text/plain": [
       "<Figure size 432x216 with 1 Axes>"
      ]
     },
     "metadata": {
      "needs_background": "light"
     },
     "output_type": "display_data"
    }
   ],
   "source": [
    "#creating the bar graph to see the count of these values\n",
    "import matplotlib.pyplot as plt\n",
    "ax = dataframe['alive'].value_counts().sort_index().plot(kind='bar',color = '#00FFFF', edgecolor='green', fontsize=14, figsize=(6,3))\n",
    "#customizing the title\n",
    "ax.set_title('Living status\\n', fontsize=20)\n",
    "#customizing x label\n",
    "ax.set_xlabel('living status', fontsize=18)\n",
    "#customizing y label\n",
    "ax.set_ylabel('Count', fontsize=18);\n",
    "plt.show()"
   ]
  },
  {
   "cell_type": "code",
   "execution_count": 974,
   "metadata": {},
   "outputs": [
    {
     "data": {
      "text/plain": [
       "738"
      ]
     },
     "execution_count": 974,
     "metadata": {},
     "output_type": "execute_result"
    }
   ],
   "source": [
    "#counting the number of missing values for the column year:\n",
    "dataframe['year'].isnull().sum()"
   ]
  },
  {
   "cell_type": "code",
   "execution_count": 975,
   "metadata": {},
   "outputs": [
    {
     "name": "stdout",
     "output_type": "stream",
     "text": [
      "4.9 percent of the values from column 'year'are missing values\n"
     ]
    }
   ],
   "source": [
    "#this variable could be used to analize the year when biggest number of new characters first appeared. \n",
    "print(\"{} percent of the values from column 'year'are missing values\".format(round(738*100/15184,1)))"
   ]
  },
  {
   "cell_type": "code",
   "execution_count": 978,
   "metadata": {},
   "outputs": [
    {
     "data": {
      "text/plain": [
       "0"
      ]
     },
     "execution_count": 978,
     "metadata": {},
     "output_type": "execute_result"
    }
   ],
   "source": [
    "#I am chosing to remove these missing values for the sake of the time series future analysis. \n",
    "dataframe = dataframe.dropna(how='any', subset=['year'])\n",
    "len(dataframe[dataframe['year'].isnull()])"
   ]
  },
  {
   "cell_type": "code",
   "execution_count": 979,
   "metadata": {},
   "outputs": [
    {
     "data": {
      "text/plain": [
       "(14432, 8)"
      ]
     },
     "execution_count": 979,
     "metadata": {},
     "output_type": "execute_result"
    }
   ],
   "source": [
    "dataframe.shape"
   ]
  },
  {
   "cell_type": "code",
   "execution_count": 980,
   "metadata": {},
   "outputs": [
    {
     "data": {
      "text/html": [
       "<div>\n",
       "<style scoped>\n",
       "    .dataframe tbody tr th:only-of-type {\n",
       "        vertical-align: middle;\n",
       "    }\n",
       "\n",
       "    .dataframe tbody tr th {\n",
       "        vertical-align: top;\n",
       "    }\n",
       "\n",
       "    .dataframe thead th {\n",
       "        text-align: right;\n",
       "    }\n",
       "</style>\n",
       "<table border=\"1\" class=\"dataframe\">\n",
       "  <thead>\n",
       "    <tr style=\"text-align: right;\">\n",
       "      <th></th>\n",
       "      <th>name</th>\n",
       "      <th>identity</th>\n",
       "      <th>personality</th>\n",
       "      <th>eye</th>\n",
       "      <th>hair</th>\n",
       "      <th>gender</th>\n",
       "      <th>alive</th>\n",
       "      <th>year</th>\n",
       "    </tr>\n",
       "  </thead>\n",
       "  <tbody>\n",
       "    <tr>\n",
       "      <th>0</th>\n",
       "      <td>Spider-Man</td>\n",
       "      <td>secret</td>\n",
       "      <td>good</td>\n",
       "      <td>hazel</td>\n",
       "      <td>brown</td>\n",
       "      <td>male</td>\n",
       "      <td>living</td>\n",
       "      <td>1962</td>\n",
       "    </tr>\n",
       "    <tr>\n",
       "      <th>1</th>\n",
       "      <td>Captain America</td>\n",
       "      <td>public</td>\n",
       "      <td>good</td>\n",
       "      <td>blue</td>\n",
       "      <td>white</td>\n",
       "      <td>male</td>\n",
       "      <td>living</td>\n",
       "      <td>1941</td>\n",
       "    </tr>\n",
       "    <tr>\n",
       "      <th>2</th>\n",
       "      <td>Wolverine</td>\n",
       "      <td>public</td>\n",
       "      <td>neutral</td>\n",
       "      <td>blue</td>\n",
       "      <td>black</td>\n",
       "      <td>male</td>\n",
       "      <td>living</td>\n",
       "      <td>1974</td>\n",
       "    </tr>\n",
       "    <tr>\n",
       "      <th>3</th>\n",
       "      <td>Iron Man</td>\n",
       "      <td>public</td>\n",
       "      <td>good</td>\n",
       "      <td>blue</td>\n",
       "      <td>black</td>\n",
       "      <td>male</td>\n",
       "      <td>living</td>\n",
       "      <td>1963</td>\n",
       "    </tr>\n",
       "    <tr>\n",
       "      <th>4</th>\n",
       "      <td>Thor</td>\n",
       "      <td>no dual</td>\n",
       "      <td>good</td>\n",
       "      <td>blue</td>\n",
       "      <td>blond</td>\n",
       "      <td>male</td>\n",
       "      <td>living</td>\n",
       "      <td>1950</td>\n",
       "    </tr>\n",
       "  </tbody>\n",
       "</table>\n",
       "</div>"
      ],
      "text/plain": [
       "              name identity personality    eye   hair gender   alive  year\n",
       "0       Spider-Man   secret        good  hazel  brown   male  living  1962\n",
       "1  Captain America   public        good   blue  white   male  living  1941\n",
       "2        Wolverine   public     neutral   blue  black   male  living  1974\n",
       "3         Iron Man   public        good   blue  black   male  living  1963\n",
       "4             Thor  no dual        good   blue  blond   male  living  1950"
      ]
     },
     "execution_count": 980,
     "metadata": {},
     "output_type": "execute_result"
    }
   ],
   "source": [
    "#converting the type float of column 'year' into an integer\n",
    "dataframe['year'] = dataframe['year'].astype(int)\n",
    "dataframe.head()"
   ]
  },
  {
   "cell_type": "code",
   "execution_count": 981,
   "metadata": {},
   "outputs": [
    {
     "data": {
      "text/html": [
       "<div>\n",
       "<style scoped>\n",
       "    .dataframe tbody tr th:only-of-type {\n",
       "        vertical-align: middle;\n",
       "    }\n",
       "\n",
       "    .dataframe tbody tr th {\n",
       "        vertical-align: top;\n",
       "    }\n",
       "\n",
       "    .dataframe thead th {\n",
       "        text-align: right;\n",
       "    }\n",
       "</style>\n",
       "<table border=\"1\" class=\"dataframe\">\n",
       "  <thead>\n",
       "    <tr style=\"text-align: right;\">\n",
       "      <th></th>\n",
       "      <th>name</th>\n",
       "      <th>identity</th>\n",
       "      <th>personality</th>\n",
       "      <th>eye</th>\n",
       "      <th>hair</th>\n",
       "      <th>gender</th>\n",
       "      <th>alive</th>\n",
       "      <th>year</th>\n",
       "    </tr>\n",
       "  </thead>\n",
       "  <tbody>\n",
       "  </tbody>\n",
       "</table>\n",
       "</div>"
      ],
      "text/plain": [
       "Empty DataFrame\n",
       "Columns: [name, identity, personality, eye, hair, gender, alive, year]\n",
       "Index: []"
      ]
     },
     "execution_count": 981,
     "metadata": {},
     "output_type": "execute_result"
    }
   ],
   "source": [
    "#confirming that no values with 0 are left in the dataframe\n",
    "dataframe[dataframe['year']==0]"
   ]
  },
  {
   "cell_type": "code",
   "execution_count": 982,
   "metadata": {},
   "outputs": [
    {
     "data": {
      "text/plain": [
       "array([1962, 1941, 1974, 1963, 1950, 1961, 1975, 1964, 1965, 1968, 1980,\n",
       "       1972, 1970, 1967, 1976, 1966, 1982, 1990, 1986, 1969, 1944, 1939,\n",
       "       1949, 1979, 1991, 1977, 1989, 1940, 1978, 1971, 1984, 2005, 1973,\n",
       "       1945, 1985, 1992, 1988, 1948, 1981, 2004, 1983, 2000, 2003, 1960,\n",
       "       1987, 1951, 1994, 2008, 2006, 2001, 2002, 1993, 1953, 1943, 1995,\n",
       "       1947, 1956, 2010, 1946, 1998, 2009, 1997, 1996, 1954, 2011, 2012,\n",
       "       1999, 1955, 2007, 2013, 1952, 1942, 1958, 1957, 1959])"
      ]
     },
     "execution_count": 982,
     "metadata": {},
     "output_type": "execute_result"
    }
   ],
   "source": [
    "#checking the unique values from column 'year'\n",
    "dataframe['year'].unique()"
   ]
  },
  {
   "cell_type": "code",
   "execution_count": 983,
   "metadata": {},
   "outputs": [
    {
     "data": {
      "image/png": "[encoded data removed]",
      "text/plain": [
       "<Figure size 1296x1008 with 1 Axes>"
      ]
     },
     "metadata": {
      "needs_background": "light"
     },
     "output_type": "display_data"
    }
   ],
   "source": [
    "#creating a horizontal bar graph to see the count information of the variable year\n",
    "import matplotlib.pyplot as plt\n",
    "ax = dataframe['year'].value_counts().sort_index().plot(kind='barh', fontsize=14, color = 'blue', edgecolor='green', figsize=(18,14))\n",
    "#customizing the title\n",
    "ax.set_title(\"Years' Distribution\", fontsize=20)\n",
    "#customizing x label\n",
    "ax.set_ylabel('Years', fontsize=5)\n",
    "#customizing y label\n",
    "ax.set_xlabel('Count', fontsize=18);\n",
    "plt.tight_layout()\n",
    "plt.show()"
   ]
  },
  {
   "cell_type": "code",
   "execution_count": 984,
   "metadata": {},
   "outputs": [
    {
     "data": {
      "text/plain": [
       "array(['Spider-Man', 'Captain America', 'Wolverine', ...,\n",
       "       'Katy & Timothy Bashir', \"Mister Z'zz\", 'Mole Monster'],\n",
       "      dtype=object)"
      ]
     },
     "execution_count": 984,
     "metadata": {},
     "output_type": "execute_result"
    }
   ],
   "source": [
    "#checking unique values of the column \"name\"\n",
    "dataframe['name'].unique()"
   ]
  },
  {
   "cell_type": "code",
   "execution_count": 985,
   "metadata": {},
   "outputs": [
    {
     "data": {
      "text/plain": [
       "14432"
      ]
     },
     "execution_count": 985,
     "metadata": {},
     "output_type": "execute_result"
    }
   ],
   "source": [
    "#checking the number of observations in teh column\n",
    "len(dataframe['name'].unique())"
   ]
  },
  {
   "cell_type": "code",
   "execution_count": 986,
   "metadata": {},
   "outputs": [
    {
     "name": "stdout",
     "output_type": "stream",
     "text": [
      "[('John Jonah Jameson', 'John Jonah Jameson, Sr.', 92)]\n",
      "[('Richard Jones', 'Ricardo Jones', 92)]\n",
      "[('Human Torch', 'Inhuman Torch', 92)]\n",
      "[('Karla Sofen', 'Karl Sofen', 95)]\n",
      "[('William Baker', 'William Blake', 92)]\n",
      "[('Peter Parker', 'Pseter Psarker', 92)]\n",
      "[('Amora', 'Gamora', 91)]\n",
      "[('Amora', 'Ramora', 91)]\n",
      "[('Gamora', 'Amora', 91)]\n",
      "[('Helmut Zemo', 'Helmuth Zemo', 96)]\n",
      "[('Tony Masters', 'Tony Masterson', 92)]\n",
      "[('Marrow', 'Arrow', 91)]\n",
      "[('Ikaris', 'Ikari', 91)]\n",
      "[('Dorrek VIII', 'Dorrek VII', 95)]\n",
      "[('Andreas von Strucker', 'Andrea von Strucker', 97)]\n",
      "[('Eric Williams', 'Eric Willis', 92)]\n",
      "[('Skurge', 'Surge', 91)]\n",
      "[('Donald Gill', 'Donald McGill', 92)]\n",
      "[('Aarkus', 'Arkus', 91)]\n",
      "[('Justin Hammer', 'Justine Hammer', 96)]\n",
      "[('Krang', 'Skrang', 91)]\n",
      "[('Modred', 'Mordred', 92)]\n",
      "[('Argon', 'Targon', 91)]\n",
      "[('John Jonah Jameson, Sr.', 'John Jonah Jameson', 92)]\n",
      "[('Cerise', 'Cherise', 92)]\n",
      "[('Mordred', 'Modred', 92)]\n",
      "[('Justine Hammer', 'Justin Hammer', 96)]\n",
      "[('Karkas', 'Karas', 91)]\n",
      "[('Krakoa III', 'Krakoa II', 95)]\n",
      "[('Jonathan Garrett', 'Nathan Garrett', 93)]\n",
      "[('Sprite', 'Spite', 91)]\n",
      "[('Andrea von Strucker', 'Andreas von Strucker', 97)]\n",
      "[('Christian Cord', 'Christine Cord', 93)]\n",
      "[('Arthur Chekov', 'Arthur Chekhov', 96)]\n",
      "[('Yuri Watanabe', 'Yuji Watanabe', 92)]\n",
      "[('Dorrek VII', 'Dorrek VIII', 95)]\n",
      "[('Spike', 'Spikey', 91)]\n",
      "[('Roberta', 'Robert', 92)]\n",
      "[('Candra', 'Chandra', 92)]\n",
      "[('Typhon', 'Typhoon', 92)]\n",
      "[('Firearm', 'Firearms', 93)]\n",
      "[('Ariel', 'Sariel', 91)]\n",
      "[('Ariel', 'Tariel', 91)]\n",
      "[('Nebulon', 'Nebulo', 92)]\n",
      "[('Jerry Hunt', 'Jerry Hunter', 91)]\n",
      "[('Delphi', 'Delphis', 92)]\n",
      "[('Delphi', 'Delphic', 92)]\n",
      "[('Devos', 'Devros', 91)]\n",
      "[('Warren Worthington Jr.', 'Warren Worthington', 92)]\n",
      "[('Pilgrim', 'Pilgrimm', 93)]\n",
      "[('Mimir', 'Mirmir', 91)]\n",
      "[('Candi', 'Chandi', 91)]\n",
      "[('Jolen', 'Jolena', 91)]\n",
      "[('Egghead', 'Egg-Head', 93)]\n",
      "[('Sentinel Mk I', 'Sentinels Mk II', 93)]\n",
      "[('Sentinel Mk I', 'Sentinel Mk III', 93)]\n",
      "[('Sentinel Mk I', 'Sentinels Mk IV', 93)]\n",
      "[('Sentinels Mk II', 'Sentinel Mk I', 93)]\n",
      "[('Sentinels Mk II', 'Sentinel Mk III', 93)]\n",
      "[('Sentinels Mk II', 'Sentinels Mk IV', 93)]\n",
      "[('Benjamin Donovan', 'Benjamin Donovan, Jr.', 91)]\n",
      "[('Chakra', 'Chaka', 91)]\n",
      "[('Vargas', 'Varga', 91)]\n",
      "[('Charles Delazny Jr.', 'Charles Delazny Sr.', 94)]\n",
      "[('Robert Bruce Banner', 'Robert Bruce Banner Jr.', 93)]\n",
      "[('Magus', 'Margus', 91)]\n",
      "[('Magus', 'Magnus', 91)]\n",
      "[('Landra', 'Landa', 91)]\n",
      "[('Number Nine', 'Number None', 91)]\n",
      "[('Lasher', 'Sher-La', 92)]\n",
      "[('Anelle', 'Anielle', 92)]\n",
      "[('Gronk', 'Groonk', 91)]\n",
      "[('Quill', 'Quills', 91)]\n",
      "[('Tetra', 'Tethra', 91)]\n",
      "[('Christine Cord', 'Christian Cord', 93)]\n",
      "[('Kroda', 'Krodar', 91)]\n",
      "[('Nebulo', 'Nebulon', 92)]\n",
      "[('Nebulo', 'Nebulos', 92)]\n",
      "[('Sentinel Mk III', 'Sentinel Mk I', 93)]\n",
      "[('Sentinel Mk III', 'Sentinels Mk II', 93)]\n",
      "[('James Larner', 'James Lardner', 96)]\n",
      "[('Hargen', 'Hagen', 91)]\n",
      "[('Ledge', 'Sledge', 91)]\n",
      "[('Gregor Russoff', 'Gregory Russoff', 97)]\n",
      "[('Helio', 'Helios', 91)]\n",
      "[('Anneka', 'Aneka', 91)]\n",
      "[('Rob Fortune', 'Roy Fortune', 91)]\n",
      "[('Edith Harker', 'Edith Harper', 92)]\n",
      "[('Korrek', 'Orrek', 91)]\n",
      "[('Alpha', 'Alphan', 91)]\n",
      "[('Dolly Donohue', 'Dolly Donahue', 92)]\n",
      "[('Jerome Jaxon', 'Jason Jerome', 92)]\n",
      "[('Jomo Kimanye', 'Jomo Kimane', 96)]\n",
      "[('Shades', 'Shade', 91)]\n",
      "[('Kalibar', 'Alibar', 92)]\n",
      "[('Trista', 'Tristan', 92)]\n",
      "[('Jacob Reisz', 'Jacob Reiss', 91)]\n",
      "[('Angela Golden', 'Golden Angel', 96)]\n",
      "[('Occulus', 'Oculus', 92)]\n",
      "[('Marita', 'Marista', 92)]\n",
      "[('Marita', 'Markita', 92)]\n",
      "[('Arrow', 'Marrow', 91)]\n",
      "[('Arrow', 'Harrow', 91)]\n",
      "[('Nanna', 'Inanna', 91)]\n",
      "[('Cybele', 'Cybelle', 92)]\n",
      "[('Daria', 'Darcia', 91)]\n",
      "[('Sledge', 'Ledge', 91)]\n",
      "[('Delphis', 'Delphi', 92)]\n",
      "[('Argus', 'Margus', 91)]\n",
      "[('Argus', 'Zargus', 91)]\n",
      "[('Jerry Hunter', 'Jerry Hunt', 91)]\n",
      "[('Man-oo', 'Manoo', 91)]\n",
      "[('Margus', 'Magus', 91)]\n",
      "[('Margus', 'Argus', 91)]\n",
      "[('Wilson Allan', 'Alan Wilson', 96)]\n",
      "[('Dolly Donahue', 'Dolly Donohue', 92)]\n",
      "[('Karas', 'Karkas', 91)]\n",
      "[('Charon', 'Charn', 91)]\n",
      "[('Ani-Mator', 'Animator', 94)]\n",
      "[('Psynapse', 'Synapse', 93)]\n",
      "[('Zarina', 'Zarin', 91)]\n",
      "[('Dakor', 'Dakkor', 91)]\n",
      "[('Dakor', 'Daakor', 91)]\n",
      "[('Knorda', 'Korda', 91)]\n",
      "[('General Chen', 'General Chasen', 92)]\n",
      "[('Ricardo Jones', 'Richard Jones', 92)]\n",
      "[('Gregory Russoff', 'Gregor Russoff', 97)]\n",
      "[('Gregory Russoff', 'Grigory Russoff', 93)]\n",
      "[('Carlton Velcro', 'Carton Velcro', 96)]\n",
      "[('General Chasen', 'General Chen', 92)]\n",
      "[('Uranos', 'Ouranos', 92)]\n",
      "[('Ranark', 'Ranar', 91)]\n",
      "[('Zedrao', 'Zendrao', 92)]\n",
      "[('Jakal', 'Jackal', 91)]\n",
      "[('Yuji Watanabe', 'Yuri Watanabe', 92)]\n",
      "[('Andros', 'Andro', 91)]\n",
      "[('Trolls', 'Troll', 91)]\n",
      "[('Mana Yanowa', 'Hana Yanowa', 91)]\n",
      "[('Aneka', 'Anneka', 91)]\n",
      "[('Shadowstalker', 'Shadow Stalker', 96)]\n",
      "[('Marin', 'Marian', 91)]\n",
      "[('Chaka', 'Chakra', 91)]\n",
      "[('Chaka', 'Chakar', 91)]\n",
      "[('Nebulos', 'Nebulo', 92)]\n",
      "[('Cho Lee', 'Ho Lee', 92)]\n",
      "[('Snaykar', 'Snakar', 92)]\n",
      "[('Aginar', 'Agnar', 91)]\n",
      "[('Water Witch', 'Weather Witch', 92)]\n",
      "[('Zorba', 'Zoroba', 91)]\n",
      "[('Balor', 'Balzor', 91)]\n",
      "[('Bartak', 'Barak', 91)]\n",
      "[('Donald McGill', 'Donald Gill', 92)]\n",
      "[('Roy Fortune', 'Rob Fortune', 91)]\n",
      "[('Right', 'Wright', 91)]\n",
      "[('Targon', 'Argon', 91)]\n",
      "[('Targon', 'Targo', 91)]\n",
      "[('Megaera', 'Megara', 92)]\n",
      "[('Barone', 'Baron', 91)]\n",
      "[('Goroth', 'Gorth', 91)]\n",
      "[('Tristan', 'Trista', 92)]\n",
      "[('Jim Mulligan', 'Jimmy Mulligan', 92)]\n",
      "[('Kamar', 'Kamara', 91)]\n",
      "[('Robert Carr', 'Robert Carter', 92)]\n",
      "[('Evolutionary', 'Revolutionary', 96)]\n",
      "[('Carlo Strange', 'Carla Strange', 92)]\n",
      "[('Alibar', 'Kalibar', 92)]\n",
      "[('Kratos', 'Katos', 91)]\n",
      "[('Kratos', 'Krato', 91)]\n",
      "[('Andro', 'Andros', 91)]\n",
      "[('Lianda', 'Landa', 91)]\n",
      "[('Lianda', 'Linda', 91)]\n",
      "[('Robert Hao', 'Robert Hagon', 91)]\n",
      "[('Joseph Danvers, Sr.', 'Joseph Danvers, Jr.', 94)]\n",
      "[('Dragona', 'Dragon', 92)]\n",
      "[('Jolena', 'Jolen', 91)]\n",
      "[('Martha Williams', 'Atha Williams', 93)]\n",
      "[('Tony Masterson', 'Tony Masters', 92)]\n",
      "[('Jason Jerome', 'Jerome Jaxon', 92)]\n",
      "[('Shaara', 'Shara', 91)]\n",
      "[('Troll', 'Trolls', 91)]\n",
      "[('Shaka', 'Shakan', 91)]\n",
      "[('Anielle', 'Anelle', 92)]\n",
      "[('Thaiis', 'Thais', 91)]\n",
      "[('Thais', 'Thaiis', 91)]\n",
      "[('Reverend Paul', 'Paul Revere', 92)]\n",
      "[('Hana Yanowa', 'Mana Yanowa', 91)]\n",
      "[('Bill Dawson', 'Bull Dawson', 91)]\n",
      "[('Dragon', 'Dragona', 92)]\n",
      "[('Dragon', 'Dragoon', 92)]\n",
      "[('Dragon', 'Dagon', 91)]\n",
      "[('Balda', 'Baldar', 91)]\n",
      "[('Titus', 'Tityus', 91)]\n",
      "[('Smokey', 'Smoke', 91)]\n",
      "[('Lawrence Zaxton', 'Lawrence Paxton', 93)]\n",
      "[('Black Mariah', 'Black Maria', 96)]\n",
      "[('Virago', 'Virgo', 91)]\n",
      "[('Dorrek', 'Orrek', 91)]\n",
      "[('Garth', 'Ugarth', 91)]\n",
      "[('Garth', 'Gareth', 91)]\n",
      "[('Charles Delazny Sr.', 'Charles Delazny Jr.', 94)]\n",
      "[('Zarin', 'Zarina', 91)]\n",
      "[('Eyekillers', 'Eye Killers', 95)]\n",
      "[('Sentinels Mk IV', 'Sentinel Mk I', 93)]\n",
      "[('Sentinels Mk IV', 'Sentinels Mk II', 93)]\n",
      "[('Shade', 'Shades', 91)]\n",
      "[('Hagen', 'Hargen', 91)]\n",
      "[('Peter', 'Pester', 91)]\n",
      "[('Chang', 'Chango', 91)]\n",
      "[('Ophelia Jones', 'Orphelia Jones', 96)]\n",
      "[('Michael Shauneghann', 'Michael Shauneghan', 97)]\n",
      "[('Baldrick', 'Baldric', 93)]\n",
      "[('Lawrence Paxton', 'Lawrence Zaxton', 93)]\n",
      "[('Robert Hagon', 'Robert Hao', 91)]\n",
      "[('Prime Skrull', 'Skrull Prime', 100)]\n",
      "[('Alan Wilson', 'Wilson Allan', 96)]\n",
      "[('Barak', 'Bartak', 91)]\n",
      "[('Barak', 'Bardak', 91)]\n",
      "[('Oliver Stoker', 'Olivier Stoker', 96)]\n",
      "[('Pilgrimm', 'Pilgrim', 93)]\n",
      "[('Synapse', 'Psynapse', 93)]\n",
      "[('Syphonn', 'Syphon', 92)]\n",
      "[('Firearms', 'Firearm', 93)]\n",
      "[('Shakti', 'Shakati', 92)]\n",
      "[('Anteus', 'Antaeus', 92)]\n",
      "[('Blackjack', 'BlackJack', 100)]\n",
      "[('John Howlett, Sr.', 'John Howlett, Jr.', 93)]\n",
      "[('Skywalker', 'Sky-Walker', 95)]\n",
      "[('Walter', 'Water', 91)]\n",
      "[('Angel', 'Angela', 91)]\n",
      "[('Valeria Toomes', 'Valerie Toomes', 93)]\n",
      "[('Chango', 'Chang', 91)]\n",
      "[('Megara', 'Megaera', 92)]\n",
      "[('Raina', 'Iraina', 91)]\n",
      "[('Number None', 'Number Nine', 91)]\n",
      "[('Ko-rel', \"K'Rel\", 91)]\n",
      "[('Harrow', 'Arrow', 91)]\n",
      "[('Kwai Jun-Fan', 'Kwai Jun-Fau', 92)]\n",
      "[('Revolutionary', 'Evolutionary', 96)]\n",
      "[('Spinner', \"'Spinner\", 100)]\n",
      "[('Angela', 'Angel', 91)]\n",
      "[('Rococo', 'Rocco', 91)]\n",
      "[('Dragoon', 'Dragon', 92)]\n",
      "[('Weather Witch', 'Water Witch', 92)]\n",
      "[('Blaze', 'Blazer', 91)]\n",
      "[('Monstrom', 'Monstro', 93)]\n",
      "[('Manoo', 'Man-oo', 91)]\n",
      "[('Sentinel 1', 'Sentinel 17', 95)]\n",
      "[('Sentinel 1', 'Sentinel 10', 95)]\n",
      "[('Sentinel 1', 'Sentinel 11', 95)]\n",
      "[('Sentinel 7', 'Sentinel 17', 95)]\n",
      "[('Brad Carter', 'Bran Carter', 91)]\n",
      "[('Voltorg', 'Voltor', 92)]\n",
      "[('Charles Gray', 'Charles Grey', 92)]\n"
     ]
    },
    {
     "name": "stdout",
     "output_type": "stream",
     "text": [
      "[('Mei Ling', 'Mei Lin', 93)]\n",
      "[('Georgia Jenkins', 'Georgie Jenkins', 93)]\n",
      "[('Arkus', 'Aarkus', 91)]\n",
      "[('Atalis', 'Atali', 91)]\n",
      "[('Jacob Reiss', 'Jacob Reisz', 91)]\n",
      "[('Jacob Reiss', 'Jacob Weiss', 91)]\n",
      "[('Skragg', 'Skagg', 91)]\n",
      "[('Thann', 'Thrann', 91)]\n",
      "[('Grigory Russoff', 'Gregory Russoff', 93)]\n",
      "[('Snakar', 'Snaykar', 92)]\n",
      "[('Daniel Madrox', 'Daniel Maddox', 92)]\n",
      "[('Jess Duncan', 'Duncan Vess', 91)]\n",
      "[('Morag', 'Mortag', 91)]\n",
      "[('Shadow Stalker', 'Shadowstalker', 96)]\n",
      "[('Falzon', 'Falzone', 92)]\n",
      "[('Xander', 'Xande', 91)]\n",
      "[('Balzor', 'Balor', 91)]\n",
      "[('Khadar', 'Kadar', 91)]\n",
      "[('Eye Killers', 'Eyekillers', 95)]\n",
      "[('Varga', 'Vargas', 91)]\n",
      "[('Cybelle', 'Cybele', 92)]\n",
      "[('Katos', 'Kratos', 91)]\n",
      "[('Mei Lin', 'Mei Ling', 93)]\n",
      "[('Tri-Sentinel', 'Sentinel T', 91)]\n",
      "[('Skrull Prime', 'Prime Skrull', 100)]\n",
      "[('Flambe', 'Flame', 91)]\n",
      "[('Landa', 'Landra', 91)]\n",
      "[('Landa', 'Lianda', 91)]\n",
      "[('Landa', 'Landar', 91)]\n",
      "[('Syphon', 'Syphonn', 92)]\n",
      "[('Abysss', 'Abyss', 91)]\n",
      "[('Javelynn', 'Javelynne', 94)]\n",
      "[('Karima', 'Karia', 91)]\n",
      "[('Singer', 'Stinger', 92)]\n",
      "[('Dandre', 'Andre', 91)]\n",
      "[('Nathan Garrett', 'Jonathan Garrett', 93)]\n",
      "[('Spikey', 'Spike', 91)]\n",
      "[('Helix', 'Phelix', 91)]\n",
      "[('Amazon', 'Amazo', 91)]\n",
      "[('Shakati', 'Shakti', 92)]\n",
      "[('Smoke', 'Smokey', 91)]\n",
      "[('Wright', 'Right', 91)]\n",
      "[('Magnus', 'Magus', 91)]\n",
      "[('Crimson Dynamo IX', 'Crimson Dynamo VII', 91)]\n",
      "[('Crimson Dynamo IX', 'Crimson Dynamo XI', 94)]\n",
      "[('Crimson Dynamo IX', 'Crimson Dynamo X', 97)]\n",
      "[('Sasha', 'Sashia', 91)]\n",
      "[('Stringer', 'Stinger', 93)]\n",
      "[('Jean Bradley', 'Jane Bradley', 92)]\n",
      "[('Mr. Munroe', 'Mrs. Munroe', 95)]\n",
      "[('Black Maria', 'Black Mariah', 96)]\n",
      "[('Abyss', 'Abysss', 91)]\n",
      "[('Ouranos', 'Uranos', 92)]\n",
      "[('Inhuman Torch', 'Human Torch', 92)]\n",
      "[('Adam Mann', 'Adam Manna', 95)]\n",
      "[('Ikari', 'Ikaris', 91)]\n",
      "[('Bull Dawson', 'Bill Dawson', 91)]\n",
      "[('Paul Revere', 'Reverend Paul', 92)]\n",
      "[('Lyander', 'Lysander', 93)]\n",
      "[('Antaeus', 'Anteus', 92)]\n",
      "[('Robert Carter', 'Robert Carr', 92)]\n",
      "[('Ugarth', 'Garth', 91)]\n",
      "[('Agnar', 'Aginar', 91)]\n",
      "[('Agnar', 'Magnar', 91)]\n",
      "[('Honir', 'Hognir', 91)]\n",
      "[('Sentinel 17', 'Sentinel 1', 95)]\n",
      "[('Sentinel 17', 'Sentinel 7', 95)]\n",
      "[('Sentinel 17', 'Sentinel 10', 91)]\n",
      "[('Sentinel 17', 'Sentinel 11', 91)]\n",
      "[('Sentinel 3', 'Sentinel 3-D', 91)]\n",
      "[('Sentinel 3', 'Sentinel 3-R', 91)]\n",
      "[('Sentinel 3-D', 'Sentinel 3', 91)]\n",
      "[('Sentinel 3-D', 'Sentinel 3-R', 92)]\n",
      "[('Sentinel 3-R', 'Sentinel 3', 91)]\n",
      "[('Sentinel 3-R', 'Sentinel 3-D', 92)]\n",
      "[('Sentinel 3-R', 'Sentinel 8-R', 92)]\n",
      "[('Sentinel T', 'Tri-Sentinel', 91)]\n",
      "[('Crime-Wave', 'Crimewave', 95)]\n",
      "[('Scylla', 'Cylla', 91)]\n",
      "[('Starr', 'Starra', 91)]\n",
      "[('Bert Tacker', 'Bert Packer', 91)]\n",
      "[('Bulwar', 'Bulwark', 92)]\n",
      "[('Sarnak', 'Sarak', 91)]\n",
      "[('Inanna', 'Nanna', 91)]\n",
      "[('Andre Rostov', 'Andrei Rostov', 96)]\n",
      "[('Sky-Walker', 'Skywalker', 95)]\n",
      "[('Gareth', 'Garth', 91)]\n",
      "[('Ralph Rider', 'Ralph Ryder', 91)]\n",
      "[('Adam Manna', 'Adam Mann', 95)]\n",
      "[('Joseph Danvers, Jr.', 'Joseph Danvers, Sr.', 94)]\n",
      "[('Moran', 'Morcan', 91)]\n",
      "[('Moran', 'Morgan', 91)]\n",
      "[('Sashia', 'Sasha', 91)]\n",
      "[('Dawn Starr', 'Dawn Star', 95)]\n",
      "[('Water', 'Walter', 91)]\n",
      "[('Arthur Chekhov', 'Arthur Chekov', 96)]\n",
      "[('Tethra', 'Tetra', 91)]\n",
      "[('Chakar', 'Chaka', 91)]\n",
      "[('Gorth', 'Goroth', 91)]\n",
      "[('Ranar', 'Ranark', 91)]\n",
      "[('Ramora', 'Amora', 91)]\n",
      "[('Shaman', 'Sharman', 92)]\n",
      "[('Sticker', 'Ticker', 92)]\n",
      "[('Dakkor', 'Dakor', 91)]\n",
      "[('Ticker', 'Sticker', 92)]\n",
      "[('Crimewave', 'Crime-Wave', 95)]\n",
      "[('Mr. Meer', 'Mrs. Meer', 93)]\n",
      "[('Mrs. Meer', 'Mr. Meer', 93)]\n",
      "[('Pester', 'Peter', 91)]\n",
      "[('Elio Angelopolous III', 'Elio Angelopoulus III', 95)]\n",
      "[('Groonk', 'Gronk', 91)]\n",
      "[('Jackal', 'Jakal', 91)]\n",
      "[('Rick Chalker', 'Dick Chalker', 92)]\n",
      "[('Dick Chalker', 'Rick Chalker', 92)]\n",
      "[('Enteki I', 'Enteki II', 94)]\n",
      "[('Karia', 'Karima', 91)]\n",
      "[('Lysander', 'Lyander', 93)]\n",
      "[('Bombadier', 'Bombardier', 95)]\n",
      "[('Tityus', 'Titus', 91)]\n",
      "[('Mr. Shaw', 'Mrs. Shaw', 93)]\n",
      "[('Cat-Man', 'Catman', 92)]\n",
      "[('Olivier Stoker', 'Oliver Stoker', 96)]\n",
      "[('Brainy', 'Brain', 91)]\n",
      "[('Jomo Kimane', 'Jomo Kimanye', 96)]\n",
      "[('Marista', 'Marita', 92)]\n",
      "[('Duncan Vess', 'Jess Duncan', 91)]\n",
      "[('Baldar', 'Balda', 91)]\n",
      "[('Crimson Dynamo VII', 'Crimson Dynamo IX', 91)]\n",
      "[('Crimson Dynamo VII', 'Crimson Dynamo XI', 91)]\n",
      "[('John Howlett, Jr.', 'John Howlett, Sr.', 93)]\n",
      "[('Falzone', 'Falzon', 92)]\n",
      "[('Mr. Canfield', 'Mrs. Canfield', 96)]\n",
      "[('Mrs. Canfield', 'Mr. Canfield', 96)]\n",
      "[('Mr. Borkowski', 'Mrs. Borkowski', 96)]\n",
      "[('Mrs. Borkowski', 'Mr. Borkowski', 96)]\n",
      "[('Crimson Dynamo XI', 'Crimson Dynamo IX', 94)]\n",
      "[('Crimson Dynamo XI', 'Crimson Dynamo VII', 91)]\n",
      "[('Crimson Dynamo XI', 'Crimson Dynamo X', 97)]\n",
      "[('Daniel Maddox', 'Daniel Madrox', 92)]\n",
      "[('Benjamin Donovan, Jr.', 'Benjamin Donovan', 91)]\n",
      "[('Edith Harper', 'Edith Harker', 92)]\n",
      "[('Mr. Brokeridge', 'Mrs. Brokeridge', 96)]\n",
      "[('Mrs. Brokeridge', 'Mr. Brokeridge', 96)]\n",
      "[('Frederick Hudson', 'Frederick Hudson II', 91)]\n",
      "[('Warren Worthington', 'Warren Worthington Jr.', 92)]\n",
      "[('Kadar', 'Khadar', 91)]\n",
      "[('Mr. Macik', 'Mrs. Macik', 94)]\n",
      "[('Mrs. Macik', 'Mr. Macik', 94)]\n",
      "[('Fritz Kron', 'Fritz Krone', 95)]\n",
      "[('Bardak', 'Barak', 91)]\n",
      "[('Jane Bradley', 'Jean Bradley', 92)]\n",
      "[('Red Skelton', 'Red Skeleton', 96)]\n",
      "[('BlackJack', 'Blackjack', 100)]\n",
      "[('Chandi', 'Candi', 91)]\n",
      "[('Egg-Head', 'Egghead', 93)]\n",
      "[('Fritz Krone', 'Fritz Kron', 95)]\n",
      "[('Red Skeleton', 'Red Skelton', 96)]\n",
      "[('Captain Sturm', 'Captain Storm', 92)]\n",
      "[('Mathers', 'Smathers', 93)]\n",
      "[('Monstro', 'Monstrom', 93)]\n",
      "[('Cat Woman', 'Cat-Woman', 100)]\n",
      "[('Cat-Woman', 'Cat Woman', 100)]\n",
      "[('Amazo', 'Amazon', 91)]\n",
      "[('Captain Storm', 'Captain Sturm', 92)]\n",
      "[('Catman', 'Cat-Man', 92)]\n",
      "[('Starra', 'Starr', 91)]\n",
      "[('Susan Dane', 'Susanna Dane', 91)]\n",
      "[('Georgie Jenkins', 'Georgia Jenkins', 93)]\n",
      "[('Baron', 'Barone', 91)]\n",
      "[('Brain', 'Brainy', 91)]\n",
      "[('Zoroba', 'Zorba', 91)]\n",
      "[('Dawn Star', 'Dawn Starr', 95)]\n",
      "[('White Face', 'White-Face', 100)]\n",
      "[('Carla Strange', 'Carlo Strange', 92)]\n",
      "[('Golden Angel', 'Angela Golden', 96)]\n",
      "[('Ho Lee', 'Cho Lee', 92)]\n",
      "[('Kalthea', 'Althea', 92)]\n",
      "[('Mirmir', 'Mimir', 91)]\n",
      "[('Rocco', 'Rococo', 91)]\n",
      "[('Skagg', 'Skragg', 91)]\n",
      "[('Skrang', 'Krang', 91)]\n",
      "[('Smathers', 'Mathers', 93)]\n",
      "[('Masquerader', 'Masquerade', 95)]\n",
      "[('Sentinel 10', 'Sentinel 1', 95)]\n",
      "[('Sentinel 10', 'Sentinel 17', 91)]\n",
      "[('Sentinel 10', 'Sentinel 11', 91)]\n",
      "[('Sentinel 11', 'Sentinel 1', 95)]\n",
      "[('Sentinel 11', 'Sentinel 17', 91)]\n",
      "[('Sentinel 11', 'Sentinel 10', 91)]\n",
      "[('Sentinel 8-R', 'Sentinel 3-R', 92)]\n",
      "[('Carole', 'Carol', 91)]\n",
      "[('Chuda', 'Chudar', 91)]\n",
      "[('Wazir', 'Wazira', 91)]\n",
      "[('Sandor', 'Sandorr', 92)]\n",
      "[('Jacob Weiss', 'Jacob Reiss', 91)]\n",
      "[('Atha Williams', 'Martha Williams', 93)]\n",
      "[('Ralph Ryder', 'Ralph Rider', 91)]\n",
      "[('Atali', 'Atalis', 91)]\n",
      "[('Robert Bruce Banner Jr.', 'Robert Bruce Banner', 93)]\n",
      "[('Orrek', 'Korrek', 91)]\n",
      "[('Orrek', 'Dorrek', 91)]\n",
      "[('Zargus', 'Argus', 91)]\n",
      "[('Krato', 'Kratos', 91)]\n",
      "[('Cylla', 'Scylla', 91)]\n",
      "[('Mortag', 'Morag', 91)]\n",
      "[('Scott Lawrence', 'Lawrence Schrott', 93)]\n",
      "[('Trogg', 'Throgg', 91)]\n",
      "[('Cherise', 'Cerise', 92)]\n",
      "[('Grondar', 'Grondaar', 93)]\n",
      "[('Krodar', 'Kroda', 91)]\n",
      "[('Sharman', 'Shaman', 92)]\n",
      "[('Charn', 'Charon', 91)]\n",
      "[('James Lardner', 'James Larner', 96)]\n",
      "[('Wazira', 'Wazir', 91)]\n",
      "[('Tony Rome', 'Tony Romeo', 95)]\n",
      "[('Uthar', 'Ruthar', 91)]\n",
      "[('Iraina', 'Raina', 91)]\n",
      "[('Eric Willis', 'Eric Williams', 92)]\n",
      "[('Throgg', 'Trogg', 91)]\n",
      "[('Jamala', 'Jamal', 91)]\n",
      "[('Voltor', 'Voltorg', 92)]\n",
      "[('Jamal', 'Jamala', 91)]\n",
      "[('William Blake', 'William Baker', 92)]\n",
      "[('Cholly', 'Holly', 91)]\n",
      "[('Targo', 'Targon', 91)]\n",
      "[('Baker', 'Barker', 91)]\n",
      "[('Baskin', 'Baski', 91)]\n",
      "[('Ruthar', 'Uthar', 91)]\n",
      "[('Baldric', 'Baldrick', 93)]\n",
      "[('Kamara', 'Kamar', 91)]\n",
      "[('Phillip', 'Philip', 92)]\n",
      "[('Andrei Rostov', 'Andre Rostov', 96)]\n",
      "[('Bert Packer', 'Bert Tacker', 91)]\n",
      "[('Chudar', 'Chuda', 91)]\n",
      "[('Shara', 'Shaara', 91)]\n",
      "[('Alphan', 'Alpha', 91)]\n",
      "[('Bulwark', 'Bulwar', 92)]\n",
      "[('Clarissa', 'Larissa', 93)]\n",
      "[('Michael Shauneghan', 'Michael Shauneghann', 97)]\n",
      "[('Stinger', 'Singer', 92)]\n",
      "[('Stinger', 'Stringer', 93)]\n",
      "[('Surge', 'Skurge', 91)]\n",
      "[('Andre', 'Dandre', 91)]\n",
      "[('Andre', 'Andrex', 91)]\n",
      "[('Animator', 'Ani-Mator', 94)]\n",
      "[('Creed', 'Screed', 91)]\n",
      "[('Phelix', 'Helix', 91)]\n",
      "[('Phlopp', 'Phopp', 91)]\n",
      "[('Phopp', 'Phlopp', 91)]\n",
      "[('Chanda', 'Chandra', 92)]\n",
      "[('Flame', 'Flambe', 91)]\n",
      "[('Charles Grey', 'Charles Gray', 92)]\n"
     ]
    },
    {
     "name": "stdout",
     "output_type": "stream",
     "text": [
      "[('Enteki II', 'Enteki I', 94)]\n",
      "[('Larissa', 'Clarissa', 93)]\n",
      "[('Bombardier', 'Bombadier', 95)]\n",
      "[('Daakor', 'Dakor', 91)]\n",
      "[('Jimmy Mulligan', 'Jim Mulligan', 92)]\n",
      "[('Marian', 'Marin', 91)]\n",
      "[('Masquerade', 'Masquerader', 95)]\n",
      "[('Screed', 'Creed', 91)]\n",
      "[('Screed', 'Scree', 91)]\n",
      "[('Seven', 'Steven', 91)]\n",
      "[('Darcia', 'Daria', 91)]\n",
      "[('Hognir', 'Honir', 91)]\n",
      "[('Spite', 'Sprite', 91)]\n",
      "[('Devros', 'Devos', 91)]\n",
      "[('Oculus', 'Occulus', 92)]\n",
      "[('Karl Sofen', 'Karla Sofen', 95)]\n",
      "[('Mrs. Shaw', 'Mr. Shaw', 93)]\n",
      "[('Sariel', 'Ariel', 91)]\n",
      "[('Tariel', 'Ariel', 91)]\n",
      "[('Typhoon', 'Typhon', 92)]\n",
      "[('Morcan', 'Moran', 91)]\n",
      "[('Scree', 'Screed', 91)]\n",
      "[('Sandorr', 'Sandor', 92)]\n",
      "[('Xande', 'Xander', 91)]\n",
      "[('Holly', 'Cholly', 91)]\n",
      "[('Mr. Taylor', 'Mrs. Taylor', 95)]\n",
      "[('Mrs. Taylor', 'Mr. Taylor', 95)]\n",
      "[('Robert', 'Roberta', 92)]\n",
      "[('Markita', 'Marita', 92)]\n",
      "[('Quills', 'Quill', 91)]\n",
      "[('Valerie Toomes', 'Valeria Toomes', 93)]\n",
      "[('Philip', 'Phillip', 92)]\n",
      "[('Crimson Dynamo X', 'Crimson Dynamo IX', 97)]\n",
      "[('Crimson Dynamo X', 'Crimson Dynamo XI', 97)]\n",
      "[('Julia Grey', 'Julian Grey', 95)]\n",
      "[('Julian Grey', 'Julia Grey', 95)]\n",
      "[('Mr. Miller', 'Mrs. Miller', 95)]\n",
      "[('Mrs. Miller', 'Mr. Miller', 95)]\n",
      "[('Olivia Hook', 'Olivia Hooks', 96)]\n",
      "[('Tony Romeo', 'Tony Rome', 95)]\n",
      "[('Helmuth Zemo', 'Helmut Zemo', 96)]\n",
      "[('Kwai Jun-Fau', 'Kwai Jun-Fan', 92)]\n",
      "[('Pseter Psarker', 'Peter Parker', 92)]\n",
      "[('Baski', 'Baskin', 91)]\n",
      "[('Krakoa II', 'Krakoa III', 95)]\n",
      "[('Mr. Abbott', 'Mrs. Abbott', 95)]\n",
      "[('Mrs. Abbott', 'Mr. Abbott', 95)]\n",
      "[('Frederick Hudson II', 'Frederick Hudson', 91)]\n",
      "[('Grondaar', 'Grondar', 93)]\n",
      "[('Olivia Hooks', 'Olivia Hook', 96)]\n",
      "[('Korda', 'Knorda', 91)]\n",
      "[('Morgan', 'Moran', 91)]\n",
      "[('Morgan', 'Morga', 91)]\n",
      "[('Mr. Cohuelo', 'Mrs. Cohuelo', 95)]\n",
      "[('Mrs. Cohuelo', 'Mr. Cohuelo', 95)]\n",
      "[('Delphic', 'Delphi', 92)]\n",
      "[('Thrann', 'Thann', 91)]\n",
      "[('Hoggscarr', 'Hoggscar', 94)]\n",
      "[('Susanna Dane', 'Susan Dane', 91)]\n",
      "[('Linda', 'Lianda', 91)]\n",
      "[('Lawrence Schrott', 'Scott Lawrence', 93)]\n",
      "[('Bran Carter', 'Brad Carter', 91)]\n",
      "[('White-Face', 'White Face', 100)]\n",
      "[('Blazer', 'Blaze', 91)]\n",
      "[('Helios', 'Helio', 91)]\n",
      "[('Carton Velcro', 'Carlton Velcro', 96)]\n",
      "[('Sarak', 'Sarnak', 91)]\n",
      "[('Shakan', 'Shaka', 91)]\n",
      "[('Sher-La', 'Lasher', 92)]\n",
      "[(\"W'kandro\", \"W'Kandro\", 100)]\n",
      "[('Althea', 'Kalthea', 92)]\n",
      "[('Dagon', 'Dragon', 91)]\n",
      "[('Zendrao', 'Zedrao', 92)]\n",
      "[(\"K'Rel\", 'Ko-rel', 91)]\n",
      "[('Magnar', 'Agnar', 91)]\n",
      "[('Morga', 'Morgan', 91)]\n",
      "[('Orphelia Jones', 'Ophelia Jones', 96)]\n",
      "[('Elio Angelopoulus III', 'Elio Angelopolous III', 95)]\n",
      "[('Javelynne', 'Javelynn', 94)]\n",
      "[('Andrex', 'Andre', 91)]\n",
      "[('Landar', 'Landa', 91)]\n",
      "[(\"W'Kandro\", \"W'kandro\", 100)]\n",
      "[('Steven', 'Seven', 91)]\n",
      "[('Barker', 'Baker', 91)]\n",
      "[('Mrs. Munroe', 'Mr. Munroe', 95)]\n",
      "[(\"'Spinner\", 'Spinner', 100)]\n",
      "[('Chandra', 'Candra', 92)]\n",
      "[('Chandra', 'Chanda', 92)]\n",
      "[('Carol', 'Carole', 91)]\n",
      "[('Hoggscar', 'Hoggscarr', 94)]\n",
      "[('Virgo', 'Virago', 91)]\n"
     ]
    }
   ],
   "source": [
    "#performing fuzzy matching on column name.THIS TAKES A VERY LONG TIME. \n",
    "#results for threshold =90 will be printed below; We have first observation; a fuzzy match and the score for it. The list with the fuzzy matches \n",
    "#will also be saved to txt file just as a precaution since this operation takes a very long time;running it multiple times is time-consuming\n",
    "import csv\n",
    "import itertools\n",
    "import pandas as pd\n",
    "from fuzzywuzzy import fuzz\n",
    "names = dataframe['name']\n",
    "list2=[]\n",
    "threshold_ratio = 90\n",
    "for str_1, str_2 in itertools.permutations(names, 2):\n",
    "    listnew = []\n",
    "    ratio = (fuzz.token_sort_ratio(str_1, str_2))\n",
    "    if ratio > threshold_ratio:\n",
    "        row = (str_1, str_2, ratio)\n",
    "        listnew.append(row)\n",
    "        list2.append(str_2)\n",
    "        print(listnew)\n",
    "with open(\"filelist2.txt\", \"w\") as output:\n",
    "    output.write(str(list2))\n",
    "#I will check the results and decide which are potential duplicates and which are not and compile the list with items that shouldn't be \n",
    "#removed as duplictes\n",
    "  \n"
   ]
  },
  {
   "cell_type": "code",
   "execution_count": 989,
   "metadata": {},
   "outputs": [
    {
     "data": {
      "text/plain": [
       "596"
      ]
     },
     "execution_count": 989,
     "metadata": {},
     "output_type": "execute_result"
    }
   ],
   "source": [
    "#checking the number of items(fuzzy matches) that might be removed from the column \"name\"as a duplicate\n",
    "len(list2)"
   ]
  },
  {
   "cell_type": "code",
   "execution_count": 990,
   "metadata": {},
   "outputs": [
    {
     "name": "stdout",
     "output_type": "stream",
     "text": [
      "['John Jonah Jameson, Sr.', 'Ricardo Jones', 'Inhuman Torch', 'Karl Sofen', 'William Blake', 'Pseter Psarker', 'Gamora', 'Ramora', 'Amora', 'Helmuth Zemo', 'Tony Masterson', 'Arrow', 'Ikari', 'Dorrek VII', 'Andrea von Strucker', 'Eric Willis', 'Surge', 'Donald McGill', 'Arkus', 'Justine Hammer', 'Skrang', 'Mordred', 'Targon', 'John Jonah Jameson', 'Cherise', 'Modred', 'Justin Hammer', 'Karas', 'Krakoa II', 'Nathan Garrett', 'Spite', 'Andreas von Strucker', 'Christine Cord', 'Arthur Chekhov', 'Yuji Watanabe', 'Dorrek VIII', 'Spikey', 'Robert', 'Chandra', 'Typhoon', 'Firearms', 'Sariel', 'Tariel', 'Nebulo', 'Jerry Hunter', 'Delphis', 'Delphic', 'Devros', 'Warren Worthington', 'Pilgrimm', 'Mirmir', 'Chandi', 'Jolena', 'Egg-Head', 'Sentinels Mk II', 'Sentinel Mk III', 'Sentinels Mk IV', 'Sentinel Mk I', 'Sentinel Mk III', 'Sentinels Mk IV', 'Benjamin Donovan, Jr.', 'Chaka', 'Varga', 'Charles Delazny Sr.', 'Robert Bruce Banner Jr.', 'Margus', 'Magnus', 'Landa', 'Number None', 'Sher-La', 'Anielle', 'Groonk', 'Quills', 'Tethra', 'Christian Cord', 'Krodar', 'Nebulon', 'Nebulos', 'Sentinel Mk I', 'Sentinels Mk II', 'James Lardner', 'Hagen', 'Sledge', 'Gregory Russoff', 'Helios', 'Aneka', 'Roy Fortune', 'Edith Harper', 'Orrek', 'Alphan', 'Dolly Donahue', 'Jason Jerome', 'Jomo Kimane', 'Shade', 'Alibar', 'Tristan', 'Jacob Reiss', 'Golden Angel', 'Oculus', 'Marista', 'Markita', 'Marrow', 'Harrow', 'Inanna', 'Cybelle', 'Darcia', 'Ledge', 'Delphi', 'Margus', 'Zargus', 'Jerry Hunt', 'Manoo', 'Magus', 'Argus', 'Alan Wilson', 'Dolly Donohue', 'Karkas', 'Charn', 'Animator', 'Synapse', 'Zarin', 'Dakkor', 'Daakor', 'Korda', 'General Chasen', 'Richard Jones', 'Gregor Russoff', 'Grigory Russoff', 'Carton Velcro', 'General Chen', 'Ouranos', 'Ranar', 'Zendrao', 'Jackal', 'Yuri Watanabe', 'Andro', 'Troll', 'Hana Yanowa', 'Anneka', 'Shadow Stalker', 'Marian', 'Chakra', 'Chakar', 'Nebulo', 'Ho Lee', 'Snakar', 'Agnar', 'Weather Witch', 'Zoroba', 'Balzor', 'Barak', 'Donald Gill', 'Rob Fortune', 'Wright', 'Argon', 'Targo', 'Megara', 'Baron', 'Gorth', 'Trista', 'Jimmy Mulligan', 'Kamara', 'Robert Carter', 'Revolutionary', 'Carla Strange', 'Kalibar', 'Katos', 'Krato', 'Andros', 'Landa', 'Linda', 'Robert Hagon', 'Joseph Danvers, Jr.', 'Dragon', 'Jolen', 'Atha Williams', 'Tony Masters', 'Jerome Jaxon', 'Shara', 'Trolls', 'Shakan', 'Anelle', 'Thais', 'Thaiis', 'Paul Revere', 'Mana Yanowa', 'Bull Dawson', 'Dragona', 'Dragoon', 'Dagon', 'Baldar', 'Tityus', 'Smoke', 'Lawrence Paxton', 'Black Maria', 'Virgo', 'Orrek', 'Ugarth', 'Gareth', 'Charles Delazny Jr.', 'Zarina', 'Eye Killers', 'Sentinel Mk I', 'Sentinels Mk II', 'Shades', 'Hargen', 'Pester', 'Chango', 'Orphelia Jones', 'Michael Shauneghan', 'Baldric', 'Lawrence Zaxton', 'Robert Hao', 'Skrull Prime', 'Wilson Allan', 'Bartak', 'Bardak', 'Olivier Stoker', 'Pilgrim', 'Psynapse', 'Syphon', 'Firearm', 'Shakati', 'Antaeus', 'BlackJack', 'John Howlett, Jr.', 'Sky-Walker', 'Water', 'Angela', 'Valerie Toomes', 'Chang', 'Megaera', 'Iraina', 'Number Nine', \"K'Rel\", 'Arrow', 'Kwai Jun-Fau', 'Evolutionary', \"'Spinner\", 'Angel', 'Rocco', 'Dragon', 'Water Witch', 'Blazer', 'Monstro', 'Man-oo', 'Sentinel 17', 'Sentinel 10', 'Sentinel 11', 'Sentinel 17', 'Bran Carter', 'Voltor', 'Charles Grey', 'Mei Lin', 'Georgie Jenkins', 'Aarkus', 'Atali', 'Jacob Reisz', 'Jacob Weiss', 'Skagg', 'Thrann', 'Gregory Russoff', 'Snaykar', 'Daniel Maddox', 'Duncan Vess', 'Mortag', 'Shadowstalker', 'Falzone', 'Xande', 'Balor', 'Kadar', 'Eyekillers', 'Vargas', 'Cybele', 'Kratos', 'Mei Ling', 'Sentinel T', 'Prime Skrull', 'Flame', 'Landra', 'Lianda', 'Landar', 'Syphonn', 'Abyss', 'Javelynne', 'Karia', 'Stinger', 'Andre', 'Jonathan Garrett', 'Spike', 'Phelix', 'Amazo', 'Shakti', 'Smokey', 'Right', 'Magus', 'Crimson Dynamo VII', 'Crimson Dynamo XI', 'Crimson Dynamo X', 'Sashia', 'Stinger', 'Jane Bradley', 'Mrs. Munroe', 'Black Mariah', 'Abysss', 'Uranos', 'Human Torch', 'Adam Manna', 'Ikaris', 'Bill Dawson', 'Reverend Paul', 'Lysander', 'Anteus', 'Robert Carr', 'Garth', 'Aginar', 'Magnar', 'Hognir', 'Sentinel 1', 'Sentinel 7', 'Sentinel 10', 'Sentinel 11', 'Sentinel 3-D', 'Sentinel 3-R', 'Sentinel 3', 'Sentinel 3-R', 'Sentinel 3', 'Sentinel 3-D', 'Sentinel 8-R', 'Tri-Sentinel', 'Crimewave', 'Cylla', 'Starra', 'Bert Packer', 'Bulwark', 'Sarak', 'Nanna', 'Andrei Rostov', 'Skywalker', 'Garth', 'Ralph Ryder', 'Adam Mann', 'Joseph Danvers, Sr.', 'Morcan', 'Morgan', 'Sasha', 'Dawn Star', 'Walter', 'Arthur Chekov', 'Tetra', 'Chaka', 'Goroth', 'Ranark', 'Amora', 'Sharman', 'Ticker', 'Dakor', 'Sticker', 'Crime-Wave', 'Mrs. Meer', 'Mr. Meer', 'Peter', 'Elio Angelopoulus III', 'Gronk', 'Jakal', 'Dick Chalker', 'Rick Chalker', 'Enteki II', 'Karima', 'Lyander', 'Bombardier', 'Titus', 'Mrs. Shaw', 'Catman', 'Oliver Stoker', 'Brain', 'Jomo Kimanye', 'Marita', 'Jess Duncan', 'Balda', 'Crimson Dynamo IX', 'Crimson Dynamo XI', 'John Howlett, Sr.', 'Falzon', 'Mrs. Canfield', 'Mr. Canfield', 'Mrs. Borkowski', 'Mr. Borkowski', 'Crimson Dynamo IX', 'Crimson Dynamo VII', 'Crimson Dynamo X', 'Daniel Madrox', 'Benjamin Donovan', 'Edith Harker', 'Mrs. Brokeridge', 'Mr. Brokeridge', 'Frederick Hudson II', 'Warren Worthington Jr.', 'Khadar', 'Mrs. Macik', 'Mr. Macik', 'Fritz Krone', 'Barak', 'Jean Bradley', 'Red Skeleton', 'Blackjack', 'Candi', 'Egghead', 'Fritz Kron', 'Red Skelton', 'Captain Storm', 'Smathers', 'Monstrom', 'Cat-Woman', 'Cat Woman', 'Amazon', 'Captain Sturm', 'Cat-Man', 'Starr', 'Susanna Dane', 'Georgia Jenkins', 'Barone', 'Brainy', 'Zorba', 'Dawn Starr', 'White-Face', 'Carlo Strange', 'Angela Golden', 'Cho Lee', 'Althea', 'Mimir', 'Rococo', 'Skragg', 'Krang', 'Mathers', 'Masquerade', 'Sentinel 1', 'Sentinel 17', 'Sentinel 11', 'Sentinel 1', 'Sentinel 17', 'Sentinel 10', 'Sentinel 3-R', 'Carol', 'Chudar', 'Wazira', 'Sandorr', 'Jacob Reiss', 'Martha Williams', 'Ralph Rider', 'Atalis', 'Robert Bruce Banner', 'Korrek', 'Dorrek', 'Argus', 'Kratos', 'Scylla', 'Morag', 'Lawrence Schrott', 'Throgg', 'Cerise', 'Grondaar', 'Kroda', 'Shaman', 'Charon', 'James Larner', 'Wazir', 'Tony Romeo', 'Ruthar', 'Raina', 'Eric Williams', 'Trogg', 'Jamal', 'Voltorg', 'Jamala', 'William Baker', 'Holly', 'Targon', 'Barker', 'Baski', 'Uthar', 'Baldrick', 'Kamar', 'Philip', 'Andre Rostov', 'Bert Tacker', 'Chuda', 'Shaara', 'Alpha', 'Bulwar', 'Larissa', 'Michael Shauneghann', 'Singer', 'Stringer', 'Skurge', 'Dandre', 'Andrex', 'Ani-Mator', 'Screed', 'Helix', 'Phopp', 'Phlopp', 'Chandra', 'Flambe', 'Charles Gray', 'Enteki I', 'Clarissa', 'Bombadier', 'Dakor', 'Jim Mulligan', 'Marin', 'Masquerader', 'Creed', 'Scree', 'Steven', 'Daria', 'Honir', 'Sprite', 'Devos', 'Occulus', 'Karla Sofen', 'Mr. Shaw', 'Ariel', 'Ariel', 'Typhon', 'Moran', 'Screed', 'Sandor', 'Xander', 'Cholly', 'Mrs. Taylor', 'Mr. Taylor', 'Roberta', 'Marita', 'Quill', 'Valeria Toomes', 'Phillip', 'Crimson Dynamo IX', 'Crimson Dynamo XI', 'Julian Grey', 'Julia Grey', 'Mrs. Miller', 'Mr. Miller', 'Olivia Hooks', 'Tony Rome', 'Helmut Zemo', 'Kwai Jun-Fan', 'Peter Parker', 'Baskin', 'Krakoa III', 'Mrs. Abbott', 'Mr. Abbott', 'Frederick Hudson', 'Grondar', 'Olivia Hook', 'Knorda', 'Moran', 'Morga', 'Mrs. Cohuelo', 'Mr. Cohuelo', 'Delphi', 'Thann', 'Hoggscar', 'Susan Dane', 'Lianda', 'Scott Lawrence', 'Brad Carter', 'White Face', 'Blaze', 'Helio', 'Carlton Velcro', 'Sarnak', 'Shaka', 'Lasher', \"W'Kandro\", 'Kalthea', 'Dragon', 'Zedrao', 'Ko-rel', 'Agnar', 'Morgan', 'Ophelia Jones', 'Elio Angelopolous III', 'Javelynn', 'Andre', 'Landa', \"W'kandro\", 'Seven', 'Baker', 'Mr. Munroe', 'Spinner', 'Candra', 'Chanda', 'Carole', 'Hoggscarr', 'Virago']\n"
     ]
    }
   ],
   "source": [
    "#checking the items of the list. \n",
    "print(list2)"
   ]
  },
  {
   "cell_type": "code",
   "execution_count": 991,
   "metadata": {},
   "outputs": [],
   "source": [
    "#I verified and checked the items above and created a list of items that are not duplicates( cross checked marvel.com; marvel.fandom.com) from fuzzy matches that we obtained above\n",
    "mylist = ['Karl Sofen','Karla Sofen','Balor','Landra','Smokey','Aginar','Dolly Donahue','Typhoon','Phillip','Julian Grey', 'Julia Grey', 'Virago', 'Arkus','Virgo', 'Ranar', 'Kadar','Eye Killers','Susan Dane','White Face','Roy Fortune','Edith Harper','Ranark','Mrs. Meer', 'Mr. Meer','Nanna', 'Inanna','Agnar','Right', 'Ikaris','Ikari','Cat Woman','Magus','Dawn Star', 'Fritz Kron','Manoo','Spyke','Abyss','Cat-Man','Red Skelton' 'Trista', 'Tristan','Carla Strange','Water Witch', 'Evolutionary','Spinner', 'Mordred','Modred','Angel','Angela', 'Morag', 'Mortag', 'Bartak','Lawrence Zaxton', 'Baldar','Baldrick','Kalibar','Georgia Jenkins', 'Charles Delazny Jr.', 'Zarina','Katos', 'Andros', 'Charles Grey','Andrei Rostov', 'Mei Lin', 'Mei Ling', 'Robert Hagon','Carlton Velcro', 'Joseph Danvers, Jr.', 'Tony Masters', 'Jerome Jaxon','Tony Romeo',  'Argon','Revolutionary', 'Anelle', 'Reverend Paul', 'Mana Yanowa', 'Titus','Black Mariah','Megara''Ledge','Marrow','John Jonah Jameson','Delphis','Magnus','Arkus','John Jonah Jameson, Sr.','Andreas von Strucker', 'Arthur Chekhov','Yuri Watanabe','Firearms','Shakti', 'Shara','Michael Shauneghan', 'Antaeus','BlackJack','Sky-Walker','Chang','Kwai Jun-Fau', 'Frederick Hudson','William Blake','Morcan', 'Moran', 'Steven', 'Seven','Barker', 'Baker', 'Mrs. Munroe', 'Mr. Munroe', 'Chandra', 'Candra', 'Chandra', 'Chanda', 'Carol', 'Carole', 'Scree', 'Screed','Landar', 'Landa','Althea', 'Kalthea', 'Dagon', 'Dragon', 'Zendrao', 'Zedrao', \"K'Rel\", 'Ko-rel', 'Magnar', 'Agnar', 'Sandorr', 'Sandor', 'Xande', 'Xander','Blaze','Helios','Sarak', 'Sarnak','Shakan','Wilson Allan', 'Oliver Stoker', 'Olivia Hooks', 'Helmut Zemo','Synapse','Syphon','Shaka', 'Shade','Sher-La','Shadow Stalker', 'Falzone',  'Lasher' 'Helio','Bran Carter', 'Brad Carter',  'Linda', 'Lianda', 'Holly', 'Cholly','Mrs. Cohuelo', 'Mr. Cohuelo', 'Delphic', 'Delphi', 'Thrann', 'Thann',  'Mr. Taylor', 'Mrs. Taylor', 'Robert', 'Roberta','Korda', 'Knorda', 'Moran', 'Morgan', 'Morga','Baski', 'Baskin', 'Mrs. Abbott', 'Mr. Abbott',  'Mrs. Miller', 'Mr. Miller','Markita', 'Marita', 'Quills', 'Quill','Carole', 'Carol','Ramora','Gamora','Chuda','Sandor','Jacob Reiss','Korrek','Orrek', 'Dorrek','Zargus', 'Argus', 'Morag','Krato', 'Kratos', 'Cylla', 'Scylla','Robert Bruce Banner Jr.', 'Robert Bruce Banner', 'Atali', 'Atalis', 'Atha Williams', 'Martha Williams','Sandorr',  'Chudar','Wazir', 'Wazira''Marita','Mrs. Macik','Mr. Macik', 'Khadar', 'Mr. Brokeridge','Balda','Mr. Canfield', 'Warren Worthington Jr.','Mrs. Brokeridge','Benjamin Donovan','Mrs. Borkowski','Daniel Madrox', 'Mr. Borkowski','Mrs. Canfield', 'Morgan','Stinger','Tetra','Brain', 'Jess Duncan', 'Rick Chalker','Karima', 'Mrs. Shaw','Lyander','Dick Chalker','Ticker', 'Chaka', 'Sharman', 'Phelix','Duncan Vess','Mimir', 'Skrang', 'Krang','Skagg', 'Skragg','Rococo','Occulus', 'Amazon','Zorba', 'Cho Lee','Carlo Strange','Angela Golden',  'Brainy','Monstro', 'Monstrom','Morcan', 'Captain Sturm', 'Captain Storm','Cylla','Chandi','Mathers', 'Smathers',  'Candi',  'Starra', 'Jean Bradley', 'Jane Bradley', 'Sashia', 'Amazo', 'Andre','Amora', 'Karia', 'Xande','Ugarth','Garth','Chakra','Egg-Head','Grondar', 'Pilgrim','Nebulo','Gronk', 'Cybelle','Alan Wilson','Dakor','Jackal','Grigory Russoff','Jim Mulligan','Masquerader', 'Goroth','Skagg','Crime-Wave', 'Jacob Weiss', 'Jacob Reisz', \"K'Rel\", 'Voltor', 'Blazer','Iraina','Megaera','Water', 'Number Nine','John Howlett, Jr.','Bardak', 'Lawrence Paxton','Arrow', 'Virgo', 'Bull Dawson', 'Smoke','Thais', 'Atha Williams','Jolen','Joseph Danvers','Phlopp','Bombadier', \"Dragon', Jr.\",'Eric Willis', 'Skrang', 'Targon', 'Karas','Nathan Garrett', 'Spite', 'Christine Cord', 'Robert','Tariel','Sariel', 'Anielle', 'Ouranos','Christian Cord', 'General Chen', 'Alibar','Tariel', 'General Chasen', 'Zarin', 'Richard Jones','Charn', 'Javelynn', \"W'Kandro\", 'Hoggscarr','Ophelia Jones','Karkas','Inanna', 'Zargus', 'Darcia','Harrow','Golden Angel', 'Markita', 'Marista', 'Tristan','Orrek', 'Sledge', 'Sher-La', 'Hagen', 'Helios','Jerry Hunter','Devros', 'Margus', 'Number None','Landa','Mirmir', 'Agnar', 'Balzor', 'Robert Carter','Wright', 'Kamara', 'Barak','Andro','Ranar','Zoroba','Ho Lee','Charles Delazny Sr.','Marian', 'Uthar', 'Ruthar', 'Chandi','Cherise', 'Cerise','Krodar', 'Karl Sofen', 'Karla Sofen', 'Mrs. Shaw', 'Mr. Shaw', 'Sariel', 'Ariel', 'Tariel', 'Ariel','Wazira', 'Wazir','Kroda', 'Sharman', 'Shaman','Marian', 'Marin','Chanda','Scree', 'Seven', 'Steven','Darcia', 'Daria', 'Hognir', 'Honir','Spite', 'Sprite', 'Devros', 'Devos', 'Prime Skrull',  'Chandra','Creed', 'Screed', 'Charn', 'Charon','Jolena','Iraina', 'Raina', 'Stinger', 'Singer','Stinger', 'Stringer', 'Surge', 'Skurge', 'Andre', 'Dandre', 'Andre', 'Andrex','Chaka','Benjamin Donovan, Jr.','Chudar', 'Chuda','Alphan', 'Alpha','Bulwark', 'Bulwar', 'Clarissa', 'Larissa','Jamala', 'Jamal','Bert Packer', 'Bert Tacker','Kamara', 'Kamar', 'Voltor','Varga','William Blake', 'William Baker','Cholly', 'Holly','Targo', 'Targon', 'Baker', 'Barker', 'Baskin', 'Baski', 'Eric Willis', 'Eric Williams','Scott Lawrence', 'Lawrence Schrott','Trogg', 'Throgg']"
   ]
  },
  {
   "cell_type": "code",
   "execution_count": 992,
   "metadata": {},
   "outputs": [
    {
     "data": {
      "text/plain": [
       "448"
      ]
     },
     "execution_count": 992,
     "metadata": {},
     "output_type": "execute_result"
    }
   ],
   "source": [
    "#checking the length of the list\n",
    "len(mylist)"
   ]
  },
  {
   "cell_type": "code",
   "execution_count": 993,
   "metadata": {},
   "outputs": [],
   "source": [
    "#I might have added items twice so I am making sure I don't have duplicates in this list. Creating a new list without duplicates\n",
    "newlist = []\n",
    "for i in mylist:\n",
    "  if i not in newlist:\n",
    "    newlist.append(i)\n"
   ]
  },
  {
   "cell_type": "code",
   "execution_count": 994,
   "metadata": {},
   "outputs": [
    {
     "data": {
      "text/plain": [
       "379"
      ]
     },
     "execution_count": 994,
     "metadata": {},
     "output_type": "execute_result"
    }
   ],
   "source": [
    "#checking the number of items in the new list\n",
    "len(newlist)"
   ]
  },
  {
   "cell_type": "code",
   "execution_count": 995,
   "metadata": {},
   "outputs": [
    {
     "data": {
      "text/plain": [
       "195"
      ]
     },
     "execution_count": 995,
     "metadata": {},
     "output_type": "execute_result"
    }
   ],
   "source": [
    "#creating one more list where the items from list2 (all of the fuzzy matchy items) will remove the items that are not duplicates (newlist) \n",
    "#we have a list of items that needs to be removed since it contains duplicates \n",
    "anotherlist = [x for x in list2 if x not in newlist]\n",
    "len(anotherlist)"
   ]
  },
  {
   "cell_type": "code",
   "execution_count": 996,
   "metadata": {},
   "outputs": [],
   "source": [
    "#checking this list against the same values being there twice\n",
    "anothernewlist = []\n",
    "for i in anotherlist:\n",
    "  if i not in anothernewlist:\n",
    "    anothernewlist.append(i)"
   ]
  },
  {
   "cell_type": "code",
   "execution_count": 997,
   "metadata": {},
   "outputs": [
    {
     "data": {
      "text/plain": [
       "169"
      ]
     },
     "execution_count": 997,
     "metadata": {},
     "output_type": "execute_result"
    }
   ],
   "source": [
    "#now we have a final list of duplicates that needs to serve as a basis for removing character duplicates from column \"name\"\n",
    "#number of items in tghis list\n",
    "len(anothernewlist)"
   ]
  },
  {
   "cell_type": "code",
   "execution_count": 998,
   "metadata": {},
   "outputs": [
    {
     "name": "stdout",
     "output_type": "stream",
     "text": [
      "['Ricardo Jones', 'Inhuman Torch', 'Pseter Psarker', 'Helmuth Zemo', 'Tony Masterson', 'Dorrek VII', 'Andrea von Strucker', 'Donald McGill', 'Justine Hammer', 'Justin Hammer', 'Krakoa II', 'Yuji Watanabe', 'Dorrek VIII', 'Spikey', 'Warren Worthington', 'Pilgrimm', 'Sentinels Mk II', 'Sentinel Mk III', 'Sentinels Mk IV', 'Sentinel Mk I', 'Groonk', 'Tethra', 'Nebulon', 'Nebulos', 'James Lardner', 'Gregory Russoff', 'Aneka', 'Jason Jerome', 'Jomo Kimane', 'Oculus', 'Ledge', 'Jerry Hunt', 'Dolly Donohue', 'Animator', 'Dakkor', 'Daakor', 'Gregor Russoff', 'Carton Velcro', 'Troll', 'Hana Yanowa', 'Anneka', 'Chakar', 'Snakar', 'Weather Witch', 'Donald Gill', 'Rob Fortune', 'Megara', 'Baron', 'Gorth', 'Trista', 'Jimmy Mulligan', 'Trolls', 'Thaiis', 'Paul Revere', 'Dragona', 'Dragoon', 'Tityus', 'Black Maria', 'Gareth', 'Shades', 'Hargen', 'Pester', 'Chango', 'Orphelia Jones', 'Baldric', 'Robert Hao', 'Skrull Prime', 'Olivier Stoker', 'Psynapse', 'Firearm', 'Shakati', 'Valerie Toomes', \"'Spinner\", 'Rocco', 'Man-oo', 'Sentinel 17', 'Sentinel 10', 'Sentinel 11', 'Georgie Jenkins', 'Aarkus', 'Snaykar', 'Daniel Maddox', 'Shadowstalker', 'Eyekillers', 'Vargas', 'Cybele', 'Sentinel T', 'Flame', 'Syphonn', 'Javelynne', 'Jonathan Garrett', 'Spike', 'Crimson Dynamo VII', 'Crimson Dynamo XI', 'Crimson Dynamo X', 'Abysss', 'Uranos', 'Human Torch', 'Adam Manna', 'Bill Dawson', 'Lysander', 'Anteus', 'Robert Carr', 'Sentinel 1', 'Sentinel 7', 'Sentinel 3-D', 'Sentinel 3-R', 'Sentinel 3', 'Sentinel 8-R', 'Tri-Sentinel', 'Crimewave', 'Skywalker', 'Ralph Ryder', 'Adam Mann', 'Joseph Danvers, Sr.', 'Sasha', 'Walter', 'Arthur Chekov', 'Sticker', 'Peter', 'Elio Angelopoulus III', 'Jakal', 'Enteki II', 'Bombardier', 'Catman', 'Jomo Kimanye', 'Crimson Dynamo IX', 'John Howlett, Sr.', 'Falzon', 'Edith Harker', 'Frederick Hudson II', 'Fritz Krone', 'Red Skeleton', 'Blackjack', 'Egghead', 'Red Skelton', 'Cat-Woman', 'Starr', 'Susanna Dane', 'Barone', 'Dawn Starr', 'White-Face', 'Masquerade', 'Ralph Rider', 'Grondaar', 'James Larner', 'Voltorg', 'Philip', 'Andre Rostov', 'Shaara', 'Michael Shauneghann', 'Ani-Mator', 'Helix', 'Phopp', 'Flambe', 'Charles Gray', 'Enteki I', 'Typhon', 'Valeria Toomes', 'Tony Rome', 'Kwai Jun-Fan', 'Peter Parker', 'Krakoa III', 'Olivia Hook', 'Hoggscar', 'Helio', 'Lasher', 'Elio Angelopolous III', \"W'kandro\"]\n"
     ]
    }
   ],
   "source": [
    "print(anothernewlist)"
   ]
  },
  {
   "cell_type": "code",
   "execution_count": 999,
   "metadata": {},
   "outputs": [
    {
     "data": {
      "text/plain": [
       "(14432, 8)"
      ]
     },
     "execution_count": 999,
     "metadata": {},
     "output_type": "execute_result"
    }
   ],
   "source": [
    "#final check of dataframe dimensions before removing these duplicates\n",
    "dataframe.shape"
   ]
  },
  {
   "cell_type": "code",
   "execution_count": 1000,
   "metadata": {},
   "outputs": [
    {
     "data": {
      "text/html": [
       "<div>\n",
       "<style scoped>\n",
       "    .dataframe tbody tr th:only-of-type {\n",
       "        vertical-align: middle;\n",
       "    }\n",
       "\n",
       "    .dataframe tbody tr th {\n",
       "        vertical-align: top;\n",
       "    }\n",
       "\n",
       "    .dataframe thead th {\n",
       "        text-align: right;\n",
       "    }\n",
       "</style>\n",
       "<table border=\"1\" class=\"dataframe\">\n",
       "  <thead>\n",
       "    <tr style=\"text-align: right;\">\n",
       "      <th></th>\n",
       "      <th>name</th>\n",
       "      <th>identity</th>\n",
       "      <th>personality</th>\n",
       "      <th>eye</th>\n",
       "      <th>hair</th>\n",
       "      <th>gender</th>\n",
       "      <th>alive</th>\n",
       "      <th>year</th>\n",
       "    </tr>\n",
       "  </thead>\n",
       "  <tbody>\n",
       "    <tr>\n",
       "      <th>0</th>\n",
       "      <td>Spider-Man</td>\n",
       "      <td>secret</td>\n",
       "      <td>good</td>\n",
       "      <td>hazel</td>\n",
       "      <td>brown</td>\n",
       "      <td>male</td>\n",
       "      <td>living</td>\n",
       "      <td>1962</td>\n",
       "    </tr>\n",
       "    <tr>\n",
       "      <th>1</th>\n",
       "      <td>Captain America</td>\n",
       "      <td>public</td>\n",
       "      <td>good</td>\n",
       "      <td>blue</td>\n",
       "      <td>white</td>\n",
       "      <td>male</td>\n",
       "      <td>living</td>\n",
       "      <td>1941</td>\n",
       "    </tr>\n",
       "    <tr>\n",
       "      <th>2</th>\n",
       "      <td>Wolverine</td>\n",
       "      <td>public</td>\n",
       "      <td>neutral</td>\n",
       "      <td>blue</td>\n",
       "      <td>black</td>\n",
       "      <td>male</td>\n",
       "      <td>living</td>\n",
       "      <td>1974</td>\n",
       "    </tr>\n",
       "    <tr>\n",
       "      <th>3</th>\n",
       "      <td>Iron Man</td>\n",
       "      <td>public</td>\n",
       "      <td>good</td>\n",
       "      <td>blue</td>\n",
       "      <td>black</td>\n",
       "      <td>male</td>\n",
       "      <td>living</td>\n",
       "      <td>1963</td>\n",
       "    </tr>\n",
       "    <tr>\n",
       "      <th>4</th>\n",
       "      <td>Thor</td>\n",
       "      <td>no dual</td>\n",
       "      <td>good</td>\n",
       "      <td>blue</td>\n",
       "      <td>blond</td>\n",
       "      <td>male</td>\n",
       "      <td>living</td>\n",
       "      <td>1950</td>\n",
       "    </tr>\n",
       "  </tbody>\n",
       "</table>\n",
       "</div>"
      ],
      "text/plain": [
       "              name identity personality    eye   hair gender   alive  year\n",
       "0       Spider-Man   secret        good  hazel  brown   male  living  1962\n",
       "1  Captain America   public        good   blue  white   male  living  1941\n",
       "2        Wolverine   public     neutral   blue  black   male  living  1974\n",
       "3         Iron Man   public        good   blue  black   male  living  1963\n",
       "4             Thor  no dual        good   blue  blond   male  living  1950"
      ]
     },
     "execution_count": 1000,
     "metadata": {},
     "output_type": "execute_result"
    }
   ],
   "source": [
    "#removing the duplicates of characters from column \"name\" after fuzzy matching analysis\n",
    "dataframe = dataframe[~dataframe['name'].isin(anothernewlist)]\n",
    "dataframe.head()"
   ]
  },
  {
   "cell_type": "code",
   "execution_count": 1001,
   "metadata": {},
   "outputs": [
    {
     "data": {
      "text/plain": [
       "(14263, 8)"
      ]
     },
     "execution_count": 1001,
     "metadata": {},
     "output_type": "execute_result"
    }
   ],
   "source": [
    "#checking the dataframe dimensions\n",
    "dataframe.shape"
   ]
  },
  {
   "cell_type": "code",
   "execution_count": 1002,
   "metadata": {},
   "outputs": [],
   "source": [
    "#one more problem in the column 'name' that I noticed is that some of the comic characters have bothe their character name(nickname \"Hulk\")and \n",
    "#the character's full name listed as separate items. Marvel.com does not treat them as separate characters. Peter Parker is an exception because \n",
    "#Peter Parker is also listed as Spiderwoman's father, as a separate character. I created a list of full names of the main and most often\n",
    "#used full names of marvel characters"
   ]
  },
  {
   "cell_type": "code",
   "execution_count": 1003,
   "metadata": {},
   "outputs": [],
   "source": [
    "#creating a list with full names of some of the comic characters that are simpy duplicates because the caracters nicknames (Hulk, for example)are already in the data frame.\n",
    "#I used https://www.superherodb.com/marvel-characters-with-first-and-last-names-that-start-with-the-same-letter/800-340/ as a basis and looked up how characters' nicknames and full names are handled  on Marvel.com \n",
    "#I am removing the full names thus eliminating some more duplicates. My main guidance for character names for this project will be Marvel.com\n",
    "fullnameslist = ['Bucky Barnes', 'Miles Morales','Norrin Radd', 'Pepper Potts', 'James Arthur', 'Kamala Khan', 'Mark Raxton', 'Reed Richards', 'John Jameson', 'Loki Laufeyson', 'Curtis Connors','Susan Storm Richards', 'Mark Milton','Bruce Banner','Norman Osborn','Stephen Strange', 'Otto Octavius', 'Victor von Doom', 'Wade Wilson', 'Matt Murdock', 'Scott Summers', 'Blackagar Boltagon', 'Carl Creel']"
   ]
  },
  {
   "cell_type": "code",
   "execution_count": 1004,
   "metadata": {},
   "outputs": [
    {
     "data": {
      "text/html": [
       "<div>\n",
       "<style scoped>\n",
       "    .dataframe tbody tr th:only-of-type {\n",
       "        vertical-align: middle;\n",
       "    }\n",
       "\n",
       "    .dataframe tbody tr th {\n",
       "        vertical-align: top;\n",
       "    }\n",
       "\n",
       "    .dataframe thead th {\n",
       "        text-align: right;\n",
       "    }\n",
       "</style>\n",
       "<table border=\"1\" class=\"dataframe\">\n",
       "  <thead>\n",
       "    <tr style=\"text-align: right;\">\n",
       "      <th></th>\n",
       "      <th>name</th>\n",
       "      <th>identity</th>\n",
       "      <th>personality</th>\n",
       "      <th>eye</th>\n",
       "      <th>hair</th>\n",
       "      <th>gender</th>\n",
       "      <th>alive</th>\n",
       "      <th>year</th>\n",
       "    </tr>\n",
       "  </thead>\n",
       "  <tbody>\n",
       "    <tr>\n",
       "      <th>0</th>\n",
       "      <td>Spider-Man</td>\n",
       "      <td>secret</td>\n",
       "      <td>good</td>\n",
       "      <td>hazel</td>\n",
       "      <td>brown</td>\n",
       "      <td>male</td>\n",
       "      <td>living</td>\n",
       "      <td>1962</td>\n",
       "    </tr>\n",
       "    <tr>\n",
       "      <th>1</th>\n",
       "      <td>Captain America</td>\n",
       "      <td>public</td>\n",
       "      <td>good</td>\n",
       "      <td>blue</td>\n",
       "      <td>white</td>\n",
       "      <td>male</td>\n",
       "      <td>living</td>\n",
       "      <td>1941</td>\n",
       "    </tr>\n",
       "    <tr>\n",
       "      <th>2</th>\n",
       "      <td>Wolverine</td>\n",
       "      <td>public</td>\n",
       "      <td>neutral</td>\n",
       "      <td>blue</td>\n",
       "      <td>black</td>\n",
       "      <td>male</td>\n",
       "      <td>living</td>\n",
       "      <td>1974</td>\n",
       "    </tr>\n",
       "    <tr>\n",
       "      <th>3</th>\n",
       "      <td>Iron Man</td>\n",
       "      <td>public</td>\n",
       "      <td>good</td>\n",
       "      <td>blue</td>\n",
       "      <td>black</td>\n",
       "      <td>male</td>\n",
       "      <td>living</td>\n",
       "      <td>1963</td>\n",
       "    </tr>\n",
       "    <tr>\n",
       "      <th>4</th>\n",
       "      <td>Thor</td>\n",
       "      <td>no dual</td>\n",
       "      <td>good</td>\n",
       "      <td>blue</td>\n",
       "      <td>blond</td>\n",
       "      <td>male</td>\n",
       "      <td>living</td>\n",
       "      <td>1950</td>\n",
       "    </tr>\n",
       "  </tbody>\n",
       "</table>\n",
       "</div>"
      ],
      "text/plain": [
       "              name identity personality    eye   hair gender   alive  year\n",
       "0       Spider-Man   secret        good  hazel  brown   male  living  1962\n",
       "1  Captain America   public        good   blue  white   male  living  1941\n",
       "2        Wolverine   public     neutral   blue  black   male  living  1974\n",
       "3         Iron Man   public        good   blue  black   male  living  1963\n",
       "4             Thor  no dual        good   blue  blond   male  living  1950"
      ]
     },
     "execution_count": 1004,
     "metadata": {},
     "output_type": "execute_result"
    }
   ],
   "source": [
    "#removing the duplicates described above\n",
    "dataframe = dataframe[~dataframe['name'].isin(fullnameslist)]\n",
    "dataframe.head()"
   ]
  },
  {
   "cell_type": "code",
   "execution_count": 1005,
   "metadata": {},
   "outputs": [
    {
     "data": {
      "text/plain": [
       "(14249, 8)"
      ]
     },
     "execution_count": 1005,
     "metadata": {},
     "output_type": "execute_result"
    }
   ],
   "source": [
    "#checking the dimensions of the dataframe\n",
    "dataframe.shape"
   ]
  },
  {
   "cell_type": "code",
   "execution_count": 1006,
   "metadata": {},
   "outputs": [
    {
     "data": {
      "text/plain": [
       "array(['hazel', 'blue', 'brown', 'green', 'yellow', 'gold', 'grey', 'red',\n",
       "       'black eyeballs', 'amber', 'variable', nan, 'black', 'white',\n",
       "       'orange', 'silver', 'purple', 'pink', 'one eye', 'violet',\n",
       "       'multiple', 'magenta', 'yellow eyeballs', 'no', 'compound'],\n",
       "      dtype=object)"
      ]
     },
     "execution_count": 1006,
     "metadata": {},
     "output_type": "execute_result"
    }
   ],
   "source": [
    "#showing unique values for the variable 'eye'\n",
    "dataframe['eye'].unique()"
   ]
  },
  {
   "cell_type": "code",
   "execution_count": 1007,
   "metadata": {},
   "outputs": [
    {
     "data": {
      "text/plain": [
       "8383"
      ]
     },
     "execution_count": 1007,
     "metadata": {},
     "output_type": "execute_result"
    }
   ],
   "source": [
    "#identifying missing values. There are more than half. After scraping the website Marvel.com I will have the same column and there is a \n",
    "#possibility that I will be able to add some of the values from the web scraped data to this column. My decision for now is not to remove\n",
    "#the missing values and do so after the analysis of the same column in data set from scraped website is performedand the dataframes are merged.\n",
    "dataframe['eye'].isnull().sum()"
   ]
  },
  {
   "cell_type": "code",
   "execution_count": 1008,
   "metadata": {},
   "outputs": [
    {
     "data": {
      "image/png": "[encoded data removed]",
      "text/plain": [
       "<Figure size 720x576 with 1 Axes>"
      ]
     },
     "metadata": {
      "needs_background": "light"
     },
     "output_type": "display_data"
    }
   ],
   "source": [
    "#creating a graph showing the count of certain types of eyes\n",
    "import matplotlib.pyplot as plt\n",
    "ax = dataframe['eye'].value_counts().sort_index().plot(kind='barh', fontsize=14, figsize=(10,8))\n",
    "#customizing the title\n",
    "ax.set_title('Types of Eyes', fontsize=20)\n",
    "#customizing x label\n",
    "ax.set_xlabel('Count', fontsize=18)\n",
    "#customizing y label\n",
    "ax.set_ylabel('Eyes', fontsize=18);\n",
    "plt.show()\n",
    "#we have quite a few values underrepresented but we are missing more than half observations as of now so I will again wait\n",
    "#to remove any data for this column until I merge it with the data frame from the website marvel.com"
   ]
  },
  {
   "cell_type": "code",
   "execution_count": 1009,
   "metadata": {},
   "outputs": [
    {
     "data": {
      "text/plain": [
       "array(['brown', 'white', 'black', 'blond', 'no', 'blue', 'red', 'bald',\n",
       "       'auburn', 'grey', 'silver', 'purple', 'strawberry blond', 'green',\n",
       "       'reddish blond', 'gold', nan, 'orange', 'pink', 'variable',\n",
       "       'yellow', 'light brown', 'magenta', 'bronze', 'dyed',\n",
       "       'orange-brown'], dtype=object)"
      ]
     },
     "execution_count": 1009,
     "metadata": {},
     "output_type": "execute_result"
    }
   ],
   "source": [
    "#showing unique values for column 'hair'\n",
    "dataframe['hair'].unique()"
   ]
  },
  {
   "cell_type": "code",
   "execution_count": 1010,
   "metadata": {},
   "outputs": [
    {
     "data": {
      "text/html": [
       "<div>\n",
       "<style scoped>\n",
       "    .dataframe tbody tr th:only-of-type {\n",
       "        vertical-align: middle;\n",
       "    }\n",
       "\n",
       "    .dataframe tbody tr th {\n",
       "        vertical-align: top;\n",
       "    }\n",
       "\n",
       "    .dataframe thead th {\n",
       "        text-align: right;\n",
       "    }\n",
       "</style>\n",
       "<table border=\"1\" class=\"dataframe\">\n",
       "  <thead>\n",
       "    <tr style=\"text-align: right;\">\n",
       "      <th></th>\n",
       "      <th>name</th>\n",
       "      <th>identity</th>\n",
       "      <th>personality</th>\n",
       "      <th>eye</th>\n",
       "      <th>hair</th>\n",
       "      <th>gender</th>\n",
       "      <th>alive</th>\n",
       "      <th>year</th>\n",
       "    </tr>\n",
       "  </thead>\n",
       "  <tbody>\n",
       "    <tr>\n",
       "      <th>5842</th>\n",
       "      <td>Susan Rice</td>\n",
       "      <td>public</td>\n",
       "      <td>neutral</td>\n",
       "      <td>NaN</td>\n",
       "      <td>dyed</td>\n",
       "      <td>female</td>\n",
       "      <td>living</td>\n",
       "      <td>2013</td>\n",
       "    </tr>\n",
       "  </tbody>\n",
       "</table>\n",
       "</div>"
      ],
      "text/plain": [
       "            name identity personality  eye  hair  gender   alive  year\n",
       "5842  Susan Rice   public     neutral  NaN  dyed  female  living  2013"
      ]
     },
     "execution_count": 1010,
     "metadata": {},
     "output_type": "execute_result"
    }
   ],
   "source": [
    "#a lot of the comic characters have dyed hair and the color usually is identified by the one that is it is dyed into.\n",
    "#So, I am replacing dyed into Black for this sepcific character (I looked the color of her hair up).\n",
    "dataframe[dataframe['hair']=='dyed']"
   ]
  },
  {
   "cell_type": "code",
   "execution_count": 1011,
   "metadata": {},
   "outputs": [
    {
     "data": {
      "text/plain": [
       "name           Susan Rice\n",
       "identity           public\n",
       "personality       neutral\n",
       "eye                   NaN\n",
       "hair                black\n",
       "gender             female\n",
       "alive              living\n",
       "year                 2013\n",
       "Name: 5842, dtype: object"
      ]
     },
     "execution_count": 1011,
     "metadata": {},
     "output_type": "execute_result"
    }
   ],
   "source": [
    "#replacing\n",
    "dataframe['hair'].replace(['dyed'], 'black', inplace=True)\n",
    "dataframe.loc[ 5842, : ]"
   ]
  },
  {
   "cell_type": "code",
   "execution_count": 1012,
   "metadata": {},
   "outputs": [
    {
     "data": {
      "text/html": [
       "<div>\n",
       "<style scoped>\n",
       "    .dataframe tbody tr th:only-of-type {\n",
       "        vertical-align: middle;\n",
       "    }\n",
       "\n",
       "    .dataframe tbody tr th {\n",
       "        vertical-align: top;\n",
       "    }\n",
       "\n",
       "    .dataframe thead th {\n",
       "        text-align: right;\n",
       "    }\n",
       "</style>\n",
       "<table border=\"1\" class=\"dataframe\">\n",
       "  <thead>\n",
       "    <tr style=\"text-align: right;\">\n",
       "      <th></th>\n",
       "      <th>name</th>\n",
       "      <th>identity</th>\n",
       "      <th>personality</th>\n",
       "      <th>eye</th>\n",
       "      <th>hair</th>\n",
       "      <th>gender</th>\n",
       "      <th>alive</th>\n",
       "      <th>year</th>\n",
       "    </tr>\n",
       "  </thead>\n",
       "  <tbody>\n",
       "    <tr>\n",
       "      <th>5</th>\n",
       "      <td>Benjamin Grimm</td>\n",
       "      <td>public</td>\n",
       "      <td>good</td>\n",
       "      <td>blue</td>\n",
       "      <td>no</td>\n",
       "      <td>male</td>\n",
       "      <td>living</td>\n",
       "      <td>1961</td>\n",
       "    </tr>\n",
       "    <tr>\n",
       "      <th>30</th>\n",
       "      <td>Vision</td>\n",
       "      <td>secret</td>\n",
       "      <td>good</td>\n",
       "      <td>gold</td>\n",
       "      <td>no</td>\n",
       "      <td>male</td>\n",
       "      <td>living</td>\n",
       "      <td>1968</td>\n",
       "    </tr>\n",
       "    <tr>\n",
       "      <th>87</th>\n",
       "      <td>Galactus</td>\n",
       "      <td>secret</td>\n",
       "      <td>neutral</td>\n",
       "      <td>brown</td>\n",
       "      <td>no</td>\n",
       "      <td>male</td>\n",
       "      <td>living</td>\n",
       "      <td>1966</td>\n",
       "    </tr>\n",
       "    <tr>\n",
       "      <th>106</th>\n",
       "      <td>Venom</td>\n",
       "      <td>known to authorities</td>\n",
       "      <td>neutral</td>\n",
       "      <td>variable</td>\n",
       "      <td>no</td>\n",
       "      <td>agender</td>\n",
       "      <td>living</td>\n",
       "      <td>1984</td>\n",
       "    </tr>\n",
       "    <tr>\n",
       "      <th>129</th>\n",
       "      <td>Thanos</td>\n",
       "      <td>no dual</td>\n",
       "      <td>bad</td>\n",
       "      <td>red</td>\n",
       "      <td>no</td>\n",
       "      <td>male</td>\n",
       "      <td>living</td>\n",
       "      <td>1973</td>\n",
       "    </tr>\n",
       "    <tr>\n",
       "      <th>...</th>\n",
       "      <td>...</td>\n",
       "      <td>...</td>\n",
       "      <td>...</td>\n",
       "      <td>...</td>\n",
       "      <td>...</td>\n",
       "      <td>...</td>\n",
       "      <td>...</td>\n",
       "      <td>...</td>\n",
       "    </tr>\n",
       "    <tr>\n",
       "      <th>16117</th>\n",
       "      <td>Death's Head</td>\n",
       "      <td>secret</td>\n",
       "      <td>good</td>\n",
       "      <td>red</td>\n",
       "      <td>no</td>\n",
       "      <td>male</td>\n",
       "      <td>living</td>\n",
       "      <td>2010</td>\n",
       "    </tr>\n",
       "    <tr>\n",
       "      <th>16125</th>\n",
       "      <td>Tul'uth</td>\n",
       "      <td>NaN</td>\n",
       "      <td>bad</td>\n",
       "      <td>yellow</td>\n",
       "      <td>no</td>\n",
       "      <td>male</td>\n",
       "      <td>living</td>\n",
       "      <td>2010</td>\n",
       "    </tr>\n",
       "    <tr>\n",
       "      <th>16127</th>\n",
       "      <td>All-Mother</td>\n",
       "      <td>no dual</td>\n",
       "      <td>NaN</td>\n",
       "      <td>NaN</td>\n",
       "      <td>no</td>\n",
       "      <td>female</td>\n",
       "      <td>deceased</td>\n",
       "      <td>2011</td>\n",
       "    </tr>\n",
       "    <tr>\n",
       "      <th>16156</th>\n",
       "      <td>Guard Dog</td>\n",
       "      <td>secret</td>\n",
       "      <td>bad</td>\n",
       "      <td>NaN</td>\n",
       "      <td>no</td>\n",
       "      <td>NaN</td>\n",
       "      <td>living</td>\n",
       "      <td>2012</td>\n",
       "    </tr>\n",
       "    <tr>\n",
       "      <th>16163</th>\n",
       "      <td>Rot's Creations</td>\n",
       "      <td>NaN</td>\n",
       "      <td>bad</td>\n",
       "      <td>NaN</td>\n",
       "      <td>no</td>\n",
       "      <td>NaN</td>\n",
       "      <td>living</td>\n",
       "      <td>2012</td>\n",
       "    </tr>\n",
       "  </tbody>\n",
       "</table>\n",
       "<p>1003 rows × 8 columns</p>\n",
       "</div>"
      ],
      "text/plain": [
       "                  name              identity personality       eye hair  \\\n",
       "5       Benjamin Grimm                public        good      blue   no   \n",
       "30              Vision                secret        good      gold   no   \n",
       "87            Galactus                secret     neutral     brown   no   \n",
       "106              Venom  known to authorities     neutral  variable   no   \n",
       "129             Thanos               no dual         bad       red   no   \n",
       "...                ...                   ...         ...       ...  ...   \n",
       "16117     Death's Head                secret        good       red   no   \n",
       "16125          Tul'uth                   NaN         bad    yellow   no   \n",
       "16127       All-Mother               no dual         NaN       NaN   no   \n",
       "16156        Guard Dog                secret         bad       NaN   no   \n",
       "16163  Rot's Creations                   NaN         bad       NaN   no   \n",
       "\n",
       "        gender     alive  year  \n",
       "5         male    living  1961  \n",
       "30        male    living  1968  \n",
       "87        male    living  1966  \n",
       "106    agender    living  1984  \n",
       "129       male    living  1973  \n",
       "...        ...       ...   ...  \n",
       "16117     male    living  2010  \n",
       "16125     male    living  2010  \n",
       "16127   female  deceased  2011  \n",
       "16156      NaN    living  2012  \n",
       "16163      NaN    living  2012  \n",
       "\n",
       "[1003 rows x 8 columns]"
      ]
     },
     "execution_count": 1012,
     "metadata": {},
     "output_type": "execute_result"
    }
   ],
   "source": [
    "#looking up examples of characters that have \"No \" as a value in the column hair \n",
    "#to see how they are different from the characters that have 'Bald' in that column. Characters with \"No \" are usually type of creatures like robots and etc \n",
    "#that could not potentially have any hair vs bald looking humans. \n",
    "dataframe[dataframe['hair']=='no']"
   ]
  },
  {
   "cell_type": "code",
   "execution_count": 1013,
   "metadata": {},
   "outputs": [
    {
     "data": {
      "text/plain": [
       "3494"
      ]
     },
     "execution_count": 1013,
     "metadata": {},
     "output_type": "execute_result"
    }
   ],
   "source": [
    "#identifying missing values. There are about a fourth of the data set. After scraping the website marvel.com I will have the same column and there is a \n",
    "#possibility that I will be able to add some of the values from the web scraped data to this column. My decision for now is not to remove\n",
    "#the missing values and do so after the analysis of the same column in data set from scraped website is performed.\n",
    "dataframe['hair'].isnull().sum()"
   ]
  },
  {
   "cell_type": "code",
   "execution_count": 1014,
   "metadata": {},
   "outputs": [
    {
     "data": {
      "image/png": "[encoded data removed]",
      "text/plain": [
       "<Figure size 720x576 with 1 Axes>"
      ]
     },
     "metadata": {
      "needs_background": "light"
     },
     "output_type": "display_data"
    }
   ],
   "source": [
    "#creating a graph showing the count of certain types of hair\n",
    "import matplotlib.pyplot as plt\n",
    "ax = dataframe['hair'].value_counts().sort_index().plot(kind='barh', fontsize=14, figsize=(10,8))\n",
    "#customizing the title\n",
    "ax.set_title('Types of hair', fontsize=20)\n",
    "#customizing x label\n",
    "ax.set_xlabel('Count', fontsize=18)\n",
    "#customizing y label\n",
    "ax.set_ylabel('Hair', fontsize=18);\n",
    "plt.show()\n",
    "#we have quite a few values underrepresented but we are missing a lot of  observations as of now so I will again wait\n",
    "#to remove any data for this column until I merge it with the data frame from the website marvel.com"
   ]
  },
  {
   "cell_type": "code",
   "execution_count": 1015,
   "metadata": {},
   "outputs": [
    {
     "data": {
      "text/plain": [
       "array(['male', 'female', 'agender', nan, 'genderfluid'], dtype=object)"
      ]
     },
     "execution_count": 1015,
     "metadata": {},
     "output_type": "execute_result"
    }
   ],
   "source": [
    "#showing unique values for the column \"gender\"\n",
    "dataframe['gender'].unique()"
   ]
  },
  {
   "cell_type": "code",
   "execution_count": 1016,
   "metadata": {},
   "outputs": [
    {
     "data": {
      "text/plain": [
       "686"
      ]
     },
     "execution_count": 1016,
     "metadata": {},
     "output_type": "execute_result"
    }
   ],
   "source": [
    "#identifying missing values. After making a call to API I will have the same column and there is a \n",
    "#possibility that I will be able to add some of the values from the data from API to this column. My decision for now is not to remove\n",
    "#the missing values and do so after the analysis of the same column in data set from API is performed.\n",
    "dataframe['gender'].isnull().sum()"
   ]
  },
  {
   "cell_type": "code",
   "execution_count": 1017,
   "metadata": {},
   "outputs": [
    {
     "data": {
      "image/png": "[encoded data removed]",
      "text/plain": [
       "<Figure size 432x216 with 1 Axes>"
      ]
     },
     "metadata": {
      "needs_background": "light"
     },
     "output_type": "display_data"
    }
   ],
   "source": [
    "#creating the bar graph to see the count of these values\n",
    "import matplotlib.pyplot as plt\n",
    "ax = dataframe['gender'].value_counts().sort_index().plot(kind='bar',color = '#00FFFF', edgecolor='green', fontsize=14, figsize=(6,3))\n",
    "#customizing the title\n",
    "ax.set_title('Gender Representation', fontsize=20)\n",
    "#customizing x label\n",
    "ax.set_xlabel('Gender', fontsize=18)\n",
    "#customizing y label\n",
    "ax.set_ylabel('Count', fontsize=18);\n",
    "plt.show()\n",
    "#we can tell that the agender and genderfluid are underrepresented but I might be able to get some more data from the data set from API since the data I was able to retrive has a variable \"gender\", so\n",
    "#I will not be removing any of the two values that are really poorly represented for now (but there is a likelihood that I will in the future) if analysis of this variable will be essential."
   ]
  },
  {
   "cell_type": "code",
   "execution_count": 1018,
   "metadata": {},
   "outputs": [
    {
     "data": {
      "text/plain": [
       "array(['secret', 'public', 'no dual', 'known to authorities', nan],\n",
       "      dtype=object)"
      ]
     },
     "execution_count": 1018,
     "metadata": {},
     "output_type": "execute_result"
    }
   ],
   "source": [
    "#checking unique values for column 'identity'\n",
    "dataframe['identity'].unique()"
   ]
  },
  {
   "cell_type": "code",
   "execution_count": 1019,
   "metadata": {},
   "outputs": [
    {
     "data": {
      "image/png": "[encoded data removed]",
      "text/plain": [
       "<Figure size 432x216 with 1 Axes>"
      ]
     },
     "metadata": {
      "needs_background": "light"
     },
     "output_type": "display_data"
    }
   ],
   "source": [
    "#creating a graph to represent this variable\n",
    "import matplotlib.pyplot as plt\n",
    "ax = dataframe['identity'].value_counts().sort_index().plot(kind='bar', color = '#00FFFF', edgecolor='green', fontsize=14, figsize=(6,3))\n",
    "#customizing the title\n",
    "ax.set_title('Types of Identity\\n', fontsize=20)\n",
    "#customizing x label\n",
    "ax.set_xlabel('Identity', fontsize=18)\n",
    "#customizing y label\n",
    "ax.set_ylabel('Count', fontsize=18);\n",
    "#ax.set_ylim(0,1000)\n",
    "plt.show()"
   ]
  },
  {
   "cell_type": "code",
   "execution_count": 1020,
   "metadata": {},
   "outputs": [
    {
     "data": {
      "text/html": [
       "<div>\n",
       "<style scoped>\n",
       "    .dataframe tbody tr th:only-of-type {\n",
       "        vertical-align: middle;\n",
       "    }\n",
       "\n",
       "    .dataframe tbody tr th {\n",
       "        vertical-align: top;\n",
       "    }\n",
       "\n",
       "    .dataframe thead th {\n",
       "        text-align: right;\n",
       "    }\n",
       "</style>\n",
       "<table border=\"1\" class=\"dataframe\">\n",
       "  <thead>\n",
       "    <tr style=\"text-align: right;\">\n",
       "      <th></th>\n",
       "      <th>name</th>\n",
       "      <th>identity</th>\n",
       "      <th>personality</th>\n",
       "      <th>eye</th>\n",
       "      <th>hair</th>\n",
       "      <th>gender</th>\n",
       "      <th>alive</th>\n",
       "      <th>year</th>\n",
       "    </tr>\n",
       "  </thead>\n",
       "  <tbody>\n",
       "    <tr>\n",
       "      <th>106</th>\n",
       "      <td>Venom</td>\n",
       "      <td>known to authorities</td>\n",
       "      <td>neutral</td>\n",
       "      <td>variable</td>\n",
       "      <td>no</td>\n",
       "      <td>agender</td>\n",
       "      <td>living</td>\n",
       "      <td>1984</td>\n",
       "    </tr>\n",
       "    <tr>\n",
       "      <th>120</th>\n",
       "      <td>Angelica Jones</td>\n",
       "      <td>known to authorities</td>\n",
       "      <td>good</td>\n",
       "      <td>green</td>\n",
       "      <td>red</td>\n",
       "      <td>female</td>\n",
       "      <td>living</td>\n",
       "      <td>1985</td>\n",
       "    </tr>\n",
       "    <tr>\n",
       "      <th>283</th>\n",
       "      <td>X-51</td>\n",
       "      <td>known to authorities</td>\n",
       "      <td>good</td>\n",
       "      <td>red</td>\n",
       "      <td>black</td>\n",
       "      <td>male</td>\n",
       "      <td>living</td>\n",
       "      <td>1977</td>\n",
       "    </tr>\n",
       "    <tr>\n",
       "      <th>373</th>\n",
       "      <td>Jacques Duquesne</td>\n",
       "      <td>known to authorities</td>\n",
       "      <td>good</td>\n",
       "      <td>blue</td>\n",
       "      <td>black</td>\n",
       "      <td>male</td>\n",
       "      <td>living</td>\n",
       "      <td>1965</td>\n",
       "    </tr>\n",
       "    <tr>\n",
       "      <th>950</th>\n",
       "      <td>Abigail Boylen</td>\n",
       "      <td>known to authorities</td>\n",
       "      <td>good</td>\n",
       "      <td>blue</td>\n",
       "      <td>blond</td>\n",
       "      <td>female</td>\n",
       "      <td>living</td>\n",
       "      <td>2007</td>\n",
       "    </tr>\n",
       "    <tr>\n",
       "      <th>1014</th>\n",
       "      <td>Elias Wirtham</td>\n",
       "      <td>known to authorities</td>\n",
       "      <td>good</td>\n",
       "      <td>brown</td>\n",
       "      <td>black</td>\n",
       "      <td>male</td>\n",
       "      <td>living</td>\n",
       "      <td>1990</td>\n",
       "    </tr>\n",
       "    <tr>\n",
       "      <th>1313</th>\n",
       "      <td>Terrance Ward</td>\n",
       "      <td>known to authorities</td>\n",
       "      <td>good</td>\n",
       "      <td>brown</td>\n",
       "      <td>black</td>\n",
       "      <td>male</td>\n",
       "      <td>living</td>\n",
       "      <td>2007</td>\n",
       "    </tr>\n",
       "    <tr>\n",
       "      <th>1448</th>\n",
       "      <td>Emery Schaub</td>\n",
       "      <td>known to authorities</td>\n",
       "      <td>good</td>\n",
       "      <td>blue</td>\n",
       "      <td>NaN</td>\n",
       "      <td>male</td>\n",
       "      <td>living</td>\n",
       "      <td>2008</td>\n",
       "    </tr>\n",
       "    <tr>\n",
       "      <th>2137</th>\n",
       "      <td>Leper Queen</td>\n",
       "      <td>known to authorities</td>\n",
       "      <td>bad</td>\n",
       "      <td>brown</td>\n",
       "      <td>bald</td>\n",
       "      <td>female</td>\n",
       "      <td>deceased</td>\n",
       "      <td>2006</td>\n",
       "    </tr>\n",
       "    <tr>\n",
       "      <th>2668</th>\n",
       "      <td>Obax Majid</td>\n",
       "      <td>known to authorities</td>\n",
       "      <td>neutral</td>\n",
       "      <td>brown</td>\n",
       "      <td>black</td>\n",
       "      <td>female</td>\n",
       "      <td>living</td>\n",
       "      <td>1993</td>\n",
       "    </tr>\n",
       "    <tr>\n",
       "      <th>3036</th>\n",
       "      <td>Ronald Hilliard</td>\n",
       "      <td>known to authorities</td>\n",
       "      <td>bad</td>\n",
       "      <td>NaN</td>\n",
       "      <td>blond</td>\n",
       "      <td>male</td>\n",
       "      <td>living</td>\n",
       "      <td>1996</td>\n",
       "    </tr>\n",
       "    <tr>\n",
       "      <th>4067</th>\n",
       "      <td>Clifton Shallot</td>\n",
       "      <td>known to authorities</td>\n",
       "      <td>bad</td>\n",
       "      <td>blue</td>\n",
       "      <td>black</td>\n",
       "      <td>male</td>\n",
       "      <td>living</td>\n",
       "      <td>1973</td>\n",
       "    </tr>\n",
       "    <tr>\n",
       "      <th>4677</th>\n",
       "      <td>Thomas Samuels</td>\n",
       "      <td>known to authorities</td>\n",
       "      <td>good</td>\n",
       "      <td>green</td>\n",
       "      <td>white</td>\n",
       "      <td>male</td>\n",
       "      <td>living</td>\n",
       "      <td>1987</td>\n",
       "    </tr>\n",
       "    <tr>\n",
       "      <th>6793</th>\n",
       "      <td>Spinner</td>\n",
       "      <td>known to authorities</td>\n",
       "      <td>good</td>\n",
       "      <td>NaN</td>\n",
       "      <td>blond</td>\n",
       "      <td>female</td>\n",
       "      <td>living</td>\n",
       "      <td>2008</td>\n",
       "    </tr>\n",
       "  </tbody>\n",
       "</table>\n",
       "</div>"
      ],
      "text/plain": [
       "                  name              identity personality       eye   hair  \\\n",
       "106              Venom  known to authorities     neutral  variable     no   \n",
       "120     Angelica Jones  known to authorities        good     green    red   \n",
       "283               X-51  known to authorities        good       red  black   \n",
       "373   Jacques Duquesne  known to authorities        good      blue  black   \n",
       "950     Abigail Boylen  known to authorities        good      blue  blond   \n",
       "1014     Elias Wirtham  known to authorities        good     brown  black   \n",
       "1313     Terrance Ward  known to authorities        good     brown  black   \n",
       "1448      Emery Schaub  known to authorities        good      blue    NaN   \n",
       "2137       Leper Queen  known to authorities         bad     brown   bald   \n",
       "2668        Obax Majid  known to authorities     neutral     brown  black   \n",
       "3036   Ronald Hilliard  known to authorities         bad       NaN  blond   \n",
       "4067   Clifton Shallot  known to authorities         bad      blue  black   \n",
       "4677    Thomas Samuels  known to authorities        good     green  white   \n",
       "6793           Spinner  known to authorities        good       NaN  blond   \n",
       "\n",
       "       gender     alive  year  \n",
       "106   agender    living  1984  \n",
       "120    female    living  1985  \n",
       "283      male    living  1977  \n",
       "373      male    living  1965  \n",
       "950    female    living  2007  \n",
       "1014     male    living  1990  \n",
       "1313     male    living  2007  \n",
       "1448     male    living  2008  \n",
       "2137   female  deceased  2006  \n",
       "2668   female    living  1993  \n",
       "3036     male    living  1996  \n",
       "4067     male    living  1973  \n",
       "4677     male    living  1987  \n",
       "6793   female    living  2008  "
      ]
     },
     "execution_count": 1020,
     "metadata": {},
     "output_type": "execute_result"
    }
   ],
   "source": [
    "dataframe[dataframe['identity']=='known to authorities']\n",
    "#this group would not be useful for the analysis of the identity since it is significantly underrepresented. I will remove these observations from the data. "
   ]
  },
  {
   "cell_type": "code",
   "execution_count": 1021,
   "metadata": {},
   "outputs": [],
   "source": [
    "dataframe = dataframe[dataframe['identity']!='known to authorities']"
   ]
  },
  {
   "cell_type": "code",
   "execution_count": 1022,
   "metadata": {},
   "outputs": [
    {
     "data": {
      "text/plain": [
       "(14235, 8)"
      ]
     },
     "execution_count": 1022,
     "metadata": {},
     "output_type": "execute_result"
    }
   ],
   "source": [
    "dataframe.shape"
   ]
  },
  {
   "cell_type": "code",
   "execution_count": 1023,
   "metadata": {},
   "outputs": [
    {
     "data": {
      "text/plain": [
       "3202"
      ]
     },
     "execution_count": 1023,
     "metadata": {},
     "output_type": "execute_result"
    }
   ],
   "source": [
    "#This column could be used for classification analysis in the future thusI am going to impute the missing values with the mode but will do it together with the next column I analyze. \n",
    "#checking the number of missing values\n",
    "dataframe['identity'].isnull().sum()"
   ]
  },
  {
   "cell_type": "code",
   "execution_count": 1024,
   "metadata": {},
   "outputs": [
    {
     "data": {
      "text/plain": [
       "array(['good', 'neutral', 'bad', nan], dtype=object)"
      ]
     },
     "execution_count": 1024,
     "metadata": {},
     "output_type": "execute_result"
    }
   ],
   "source": [
    "#checking unique values for variable 'personality'\n",
    "dataframe['personality'].unique()"
   ]
  },
  {
   "cell_type": "code",
   "execution_count": 1025,
   "metadata": {},
   "outputs": [
    {
     "data": {
      "image/png": "[encoded data removed]",
      "text/plain": [
       "<Figure size 432x216 with 1 Axes>"
      ]
     },
     "metadata": {
      "needs_background": "light"
     },
     "output_type": "display_data"
    }
   ],
   "source": [
    "#creating a graph to represent this variable\n",
    "import matplotlib.pyplot as plt\n",
    "ax = dataframe['personality'].value_counts().sort_index().plot(kind='bar', color = '#00FFFF', edgecolor='green', fontsize=14, figsize=(6,3))\n",
    "#customizing the title\n",
    "ax.set_title('Types of Personality\\n', fontsize=20)\n",
    "#customizing x label\n",
    "ax.set_xlabel('Personality', fontsize=18)\n",
    "#customizing y label\n",
    "ax.set_ylabel('Count', fontsize=18);\n",
    "plt.show()\n",
    "#unique values are represented well"
   ]
  },
  {
   "cell_type": "code",
   "execution_count": 1026,
   "metadata": {},
   "outputs": [
    {
     "data": {
      "text/plain": [
       "2418"
      ]
     },
     "execution_count": 1026,
     "metadata": {},
     "output_type": "execute_result"
    }
   ],
   "source": [
    "#checking the number of missing values\n",
    "dataframe['personality'].isnull().sum()"
   ]
  },
  {
   "cell_type": "code",
   "execution_count": 1027,
   "metadata": {},
   "outputs": [
    {
     "data": {
      "text/html": [
       "<div>\n",
       "<style scoped>\n",
       "    .dataframe tbody tr th:only-of-type {\n",
       "        vertical-align: middle;\n",
       "    }\n",
       "\n",
       "    .dataframe tbody tr th {\n",
       "        vertical-align: top;\n",
       "    }\n",
       "\n",
       "    .dataframe thead th {\n",
       "        text-align: right;\n",
       "    }\n",
       "</style>\n",
       "<table border=\"1\" class=\"dataframe\">\n",
       "  <thead>\n",
       "    <tr style=\"text-align: right;\">\n",
       "      <th></th>\n",
       "      <th>identity</th>\n",
       "      <th>personality</th>\n",
       "    </tr>\n",
       "  </thead>\n",
       "  <tbody>\n",
       "    <tr>\n",
       "      <th>0</th>\n",
       "      <td>secret</td>\n",
       "      <td>bad</td>\n",
       "    </tr>\n",
       "  </tbody>\n",
       "</table>\n",
       "</div>"
      ],
      "text/plain": [
       "  identity personality\n",
       "0   secret         bad"
      ]
     },
     "execution_count": 1027,
     "metadata": {},
     "output_type": "execute_result"
    }
   ],
   "source": [
    "#this variable could also be used for classification analysis in the future thus I am imputing the missing values with the mode.\n",
    "#computing modes for variables \"identity\" and \"personality\"\n",
    "mode = dataframe.filter([\"identity\", \"personality\"]).mode()\n",
    "mode"
   ]
  },
  {
   "cell_type": "code",
   "execution_count": 1028,
   "metadata": {},
   "outputs": [],
   "source": [
    "#imputing the values of columns 'identity' and 'personality' with the mode\n",
    "cols = [\"identity\", \"personality\"]\n",
    "dataframe[cols]=dataframe[cols].fillna(dataframe.mode().iloc[0])"
   ]
  },
  {
   "cell_type": "code",
   "execution_count": 1029,
   "metadata": {},
   "outputs": [
    {
     "name": "stdout",
     "output_type": "stream",
     "text": [
      "0\n",
      "0\n"
     ]
    }
   ],
   "source": [
    "#checking if the imputation was successful\n",
    "print(dataframe['identity'].isnull().sum())\n",
    "print(dataframe['personality'].isnull().sum())"
   ]
  },
  {
   "cell_type": "code",
   "execution_count": 1030,
   "metadata": {},
   "outputs": [
    {
     "data": {
      "text/plain": [
       "(14235, 8)"
      ]
     },
     "execution_count": 1030,
     "metadata": {},
     "output_type": "execute_result"
    }
   ],
   "source": [
    "dataframe.shape\n"
   ]
  },
  {
   "cell_type": "code",
   "execution_count": 1031,
   "metadata": {},
   "outputs": [
    {
     "name": "stdout",
     "output_type": "stream",
     "text": [
      "<class 'pandas.core.frame.DataFrame'>\n",
      "Int64Index: 14235 entries, 0 to 16175\n",
      "Data columns (total 8 columns):\n",
      " #   Column       Non-Null Count  Dtype \n",
      "---  ------       --------------  ----- \n",
      " 0   name         14235 non-null  object\n",
      " 1   identity     14235 non-null  object\n",
      " 2   personality  14235 non-null  object\n",
      " 3   eye          5854 non-null   object\n",
      " 4   hair         10742 non-null  object\n",
      " 5   gender       13549 non-null  object\n",
      " 6   alive        14235 non-null  object\n",
      " 7   year         14235 non-null  int32 \n",
      "dtypes: int32(1), object(7)\n",
      "memory usage: 945.3+ KB\n"
     ]
    }
   ],
   "source": [
    "dataframe.info()"
   ]
  },
  {
   "cell_type": "code",
   "execution_count": 1032,
   "metadata": {},
   "outputs": [],
   "source": [
    "#we have 3 columns with missing values. As explained above I might get rid of some of the missing values for these columns\n",
    "#after working on 2 other data sets since these columns will be present there as well. The rest of the columns' missing values and the duplicates \n",
    "#from column \"name\" have been handled.The number of observations decreased from 16376 to 14235 after deduplicating the column \"name\" \n",
    "#and removing some missing values from column \"year\" and \"alive\" with the number of duplicates accounting for the most of the removed variables."
   ]
  },
  {
   "cell_type": "code",
   "execution_count": 1033,
   "metadata": {},
   "outputs": [
    {
     "name": "stdout",
     "output_type": "stream",
     "text": [
      "Summarized Data\n",
      "-----------------------------------------------------------------------------------------------------------------------------\n",
      "                name identity personality   eye   hair gender   alive\n",
      "count          14235    14235       14235  5854  10742  13549   14235\n",
      "unique         14235        3           3    24     24      4       2\n",
      "top     Herr Mongrel   secret         bad  blue  black   male  living\n",
      "freq               1     8615        8222  1755   3364  10152   10915\n"
     ]
    }
   ],
   "source": [
    "print(\"Summarized Data\")\n",
    "print(\"-\"*125)\n",
    "print(dataframe.describe(include=['O']))"
   ]
  },
  {
   "cell_type": "code",
   "execution_count": 1034,
   "metadata": {},
   "outputs": [
    {
     "data": {
      "text/html": [
       "<div>\n",
       "<style scoped>\n",
       "    .dataframe tbody tr th:only-of-type {\n",
       "        vertical-align: middle;\n",
       "    }\n",
       "\n",
       "    .dataframe tbody tr th {\n",
       "        vertical-align: top;\n",
       "    }\n",
       "\n",
       "    .dataframe thead th {\n",
       "        text-align: right;\n",
       "    }\n",
       "</style>\n",
       "<table border=\"1\" class=\"dataframe\">\n",
       "  <thead>\n",
       "    <tr style=\"text-align: right;\">\n",
       "      <th></th>\n",
       "      <th>name</th>\n",
       "      <th>identity</th>\n",
       "      <th>personality</th>\n",
       "      <th>eye</th>\n",
       "      <th>hair</th>\n",
       "      <th>gender</th>\n",
       "      <th>alive</th>\n",
       "      <th>year</th>\n",
       "    </tr>\n",
       "  </thead>\n",
       "  <tbody>\n",
       "    <tr>\n",
       "      <th>16166</th>\n",
       "      <td>Simone</td>\n",
       "      <td>public</td>\n",
       "      <td>good</td>\n",
       "      <td>black</td>\n",
       "      <td>black</td>\n",
       "      <td>female</td>\n",
       "      <td>living</td>\n",
       "      <td>2012</td>\n",
       "    </tr>\n",
       "    <tr>\n",
       "      <th>16167</th>\n",
       "      <td>Taurus</td>\n",
       "      <td>secret</td>\n",
       "      <td>bad</td>\n",
       "      <td>hazel</td>\n",
       "      <td>black</td>\n",
       "      <td>male</td>\n",
       "      <td>deceased</td>\n",
       "      <td>2012</td>\n",
       "    </tr>\n",
       "    <tr>\n",
       "      <th>16168</th>\n",
       "      <td>The Hypst'r</td>\n",
       "      <td>secret</td>\n",
       "      <td>good</td>\n",
       "      <td>NaN</td>\n",
       "      <td>NaN</td>\n",
       "      <td>male</td>\n",
       "      <td>living</td>\n",
       "      <td>2012</td>\n",
       "    </tr>\n",
       "    <tr>\n",
       "      <th>16169</th>\n",
       "      <td>Tito</td>\n",
       "      <td>public</td>\n",
       "      <td>good</td>\n",
       "      <td>NaN</td>\n",
       "      <td>red</td>\n",
       "      <td>NaN</td>\n",
       "      <td>living</td>\n",
       "      <td>2012</td>\n",
       "    </tr>\n",
       "    <tr>\n",
       "      <th>16170</th>\n",
       "      <td>Virgo</td>\n",
       "      <td>secret</td>\n",
       "      <td>bad</td>\n",
       "      <td>black</td>\n",
       "      <td>brown</td>\n",
       "      <td>female</td>\n",
       "      <td>deceased</td>\n",
       "      <td>2012</td>\n",
       "    </tr>\n",
       "    <tr>\n",
       "      <th>16171</th>\n",
       "      <td>Spider-Girl</td>\n",
       "      <td>no dual</td>\n",
       "      <td>neutral</td>\n",
       "      <td>brown</td>\n",
       "      <td>blond</td>\n",
       "      <td>female</td>\n",
       "      <td>living</td>\n",
       "      <td>2013</td>\n",
       "    </tr>\n",
       "    <tr>\n",
       "      <th>16172</th>\n",
       "      <td>James Monroe</td>\n",
       "      <td>public</td>\n",
       "      <td>bad</td>\n",
       "      <td>NaN</td>\n",
       "      <td>NaN</td>\n",
       "      <td>male</td>\n",
       "      <td>living</td>\n",
       "      <td>2013</td>\n",
       "    </tr>\n",
       "    <tr>\n",
       "      <th>16173</th>\n",
       "      <td>Katy &amp; Timothy Bashir</td>\n",
       "      <td>secret</td>\n",
       "      <td>bad</td>\n",
       "      <td>brown</td>\n",
       "      <td>black</td>\n",
       "      <td>female</td>\n",
       "      <td>deceased</td>\n",
       "      <td>2013</td>\n",
       "    </tr>\n",
       "    <tr>\n",
       "      <th>16174</th>\n",
       "      <td>Mister Z'zz</td>\n",
       "      <td>secret</td>\n",
       "      <td>good</td>\n",
       "      <td>white</td>\n",
       "      <td>NaN</td>\n",
       "      <td>male</td>\n",
       "      <td>deceased</td>\n",
       "      <td>2013</td>\n",
       "    </tr>\n",
       "    <tr>\n",
       "      <th>16175</th>\n",
       "      <td>Mole Monster</td>\n",
       "      <td>secret</td>\n",
       "      <td>neutral</td>\n",
       "      <td>yellow</td>\n",
       "      <td>black</td>\n",
       "      <td>male</td>\n",
       "      <td>living</td>\n",
       "      <td>2013</td>\n",
       "    </tr>\n",
       "  </tbody>\n",
       "</table>\n",
       "</div>"
      ],
      "text/plain": [
       "                        name identity personality     eye   hair  gender  \\\n",
       "16166                 Simone   public        good   black  black  female   \n",
       "16167                 Taurus   secret         bad   hazel  black    male   \n",
       "16168            The Hypst'r   secret        good     NaN    NaN    male   \n",
       "16169                   Tito   public        good     NaN    red     NaN   \n",
       "16170                  Virgo   secret         bad   black  brown  female   \n",
       "16171            Spider-Girl  no dual     neutral   brown  blond  female   \n",
       "16172           James Monroe   public         bad     NaN    NaN    male   \n",
       "16173  Katy & Timothy Bashir   secret         bad   brown  black  female   \n",
       "16174            Mister Z'zz   secret        good   white    NaN    male   \n",
       "16175           Mole Monster   secret     neutral  yellow  black    male   \n",
       "\n",
       "          alive  year  \n",
       "16166    living  2012  \n",
       "16167  deceased  2012  \n",
       "16168    living  2012  \n",
       "16169    living  2012  \n",
       "16170  deceased  2012  \n",
       "16171    living  2013  \n",
       "16172    living  2013  \n",
       "16173  deceased  2013  \n",
       "16174  deceased  2013  \n",
       "16175    living  2013  "
      ]
     },
     "execution_count": 1034,
     "metadata": {},
     "output_type": "execute_result"
    }
   ],
   "source": [
    "dataframe.tail(10)"
   ]
  },
  {
   "cell_type": "code",
   "execution_count": 1036,
   "metadata": {},
   "outputs": [],
   "source": [
    "dataframe.reset_index(drop=True, inplace=True)"
   ]
  },
  {
   "cell_type": "code",
   "execution_count": 1037,
   "metadata": {},
   "outputs": [
    {
     "data": {
      "text/html": [
       "<div>\n",
       "<style scoped>\n",
       "    .dataframe tbody tr th:only-of-type {\n",
       "        vertical-align: middle;\n",
       "    }\n",
       "\n",
       "    .dataframe tbody tr th {\n",
       "        vertical-align: top;\n",
       "    }\n",
       "\n",
       "    .dataframe thead th {\n",
       "        text-align: right;\n",
       "    }\n",
       "</style>\n",
       "<table border=\"1\" class=\"dataframe\">\n",
       "  <thead>\n",
       "    <tr style=\"text-align: right;\">\n",
       "      <th></th>\n",
       "      <th>name</th>\n",
       "      <th>identity</th>\n",
       "      <th>personality</th>\n",
       "      <th>eye</th>\n",
       "      <th>hair</th>\n",
       "      <th>gender</th>\n",
       "      <th>alive</th>\n",
       "      <th>year</th>\n",
       "    </tr>\n",
       "  </thead>\n",
       "  <tbody>\n",
       "    <tr>\n",
       "      <th>14230</th>\n",
       "      <td>Spider-Girl</td>\n",
       "      <td>no dual</td>\n",
       "      <td>neutral</td>\n",
       "      <td>brown</td>\n",
       "      <td>blond</td>\n",
       "      <td>female</td>\n",
       "      <td>living</td>\n",
       "      <td>2013</td>\n",
       "    </tr>\n",
       "    <tr>\n",
       "      <th>14231</th>\n",
       "      <td>James Monroe</td>\n",
       "      <td>public</td>\n",
       "      <td>bad</td>\n",
       "      <td>NaN</td>\n",
       "      <td>NaN</td>\n",
       "      <td>male</td>\n",
       "      <td>living</td>\n",
       "      <td>2013</td>\n",
       "    </tr>\n",
       "    <tr>\n",
       "      <th>14232</th>\n",
       "      <td>Katy &amp; Timothy Bashir</td>\n",
       "      <td>secret</td>\n",
       "      <td>bad</td>\n",
       "      <td>brown</td>\n",
       "      <td>black</td>\n",
       "      <td>female</td>\n",
       "      <td>deceased</td>\n",
       "      <td>2013</td>\n",
       "    </tr>\n",
       "    <tr>\n",
       "      <th>14233</th>\n",
       "      <td>Mister Z'zz</td>\n",
       "      <td>secret</td>\n",
       "      <td>good</td>\n",
       "      <td>white</td>\n",
       "      <td>NaN</td>\n",
       "      <td>male</td>\n",
       "      <td>deceased</td>\n",
       "      <td>2013</td>\n",
       "    </tr>\n",
       "    <tr>\n",
       "      <th>14234</th>\n",
       "      <td>Mole Monster</td>\n",
       "      <td>secret</td>\n",
       "      <td>neutral</td>\n",
       "      <td>yellow</td>\n",
       "      <td>black</td>\n",
       "      <td>male</td>\n",
       "      <td>living</td>\n",
       "      <td>2013</td>\n",
       "    </tr>\n",
       "  </tbody>\n",
       "</table>\n",
       "</div>"
      ],
      "text/plain": [
       "                        name identity personality     eye   hair  gender  \\\n",
       "14230            Spider-Girl  no dual     neutral   brown  blond  female   \n",
       "14231           James Monroe   public         bad     NaN    NaN    male   \n",
       "14232  Katy & Timothy Bashir   secret         bad   brown  black  female   \n",
       "14233            Mister Z'zz   secret        good   white    NaN    male   \n",
       "14234           Mole Monster   secret     neutral  yellow  black    male   \n",
       "\n",
       "          alive  year  \n",
       "14230    living  2013  \n",
       "14231    living  2013  \n",
       "14232  deceased  2013  \n",
       "14233  deceased  2013  \n",
       "14234    living  2013  "
      ]
     },
     "execution_count": 1037,
     "metadata": {},
     "output_type": "execute_result"
    }
   ],
   "source": [
    "dataframe.tail()"
   ]
  },
  {
   "cell_type": "code",
   "execution_count": 1038,
   "metadata": {},
   "outputs": [],
   "source": [
    "#saving this dataframe to a csv file to use it in the future.\n",
    "dataframe.to_csv('marvelscomics.csv')"
   ]
  },
  {
   "cell_type": "code",
   "execution_count": null,
   "metadata": {},
   "outputs": [],
   "source": []
  }
 ],
 "metadata": {
  "kernelspec": {
   "display_name": "Python 3",
   "language": "python",
   "name": "python3"
  },
  "language_info": {
   "codemirror_mode": {
    "name": "ipython",
    "version": 3
   },
   "file_extension": ".py",
   "mimetype": "text/x-python",
   "name": "python",
   "nbconvert_exporter": "python",
   "pygments_lexer": "ipython3",
   "version": "3.7.6"
  }
 },
 "nbformat": 4,
 "nbformat_minor": 4
}
